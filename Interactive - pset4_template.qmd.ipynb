{
 "cells": [
  {
   "cell_type": "markdown",
   "metadata": {},
   "source": [
    "Connected to Python 3.9.6"
   ]
  },
  {
   "cell_type": "code",
   "execution_count": 1,
   "id": "df22cf30-b12a-4938-a6fa-a605681a98b4",
   "metadata": {
    "vscode": {
     "languageId": "quarto"
    }
   },
   "outputs": [],
   "source": [
    "import pandas as pd\n",
    "import numpy as np\n",
    "import altair as alt\n",
    "import os\n",
    "import json\n",
    "alt.renderers.enable(\"png\") \n",
    "import shapely\n",
    "import geopandas"
   ]
  },
  {
   "cell_type": "code",
   "execution_count": 2,
   "id": "324e0561-baf1-4655-93c4-5c00f82d25f8",
   "metadata": {
    "vscode": {
     "languageId": "quarto"
    }
   },
   "outputs": [
    {
     "name": "stderr",
     "output_type": "stream",
     "text": [
      "<ipython-input-2-0066bd99ef3d>:6: DtypeWarning: Columns (11) have mixed types. Specify dtype option on import or set low_memory=False.\n",
      "  health17 = pd.read_csv(path_health17)\n"
     ]
    }
   ],
   "source": [
    "raw_health = \"/Users/justinesilverstein/Desktop/problem-set-4-andrew-justine\"\n",
    "path_health16 = os.path.join(raw_health, \"pos2016.csv\")\n",
    "health16 = pd.read_csv(path_health16) \n",
    "\n",
    "path_health17 = os.path.join(raw_health, \"pos2017.csv\")\n",
    "health17 = pd.read_csv(path_health17)\n",
    "\n",
    "path_health18 = os.path.join(raw_health, \"pos2018.csv\")\n",
    "health18 = pd.read_csv(path_health18, encoding = \"ISO-8859-1\")\n",
    "\n",
    "path_health19 = os.path.join(raw_health, \"pos2019.csv\")\n",
    "health19 = pd.read_csv(path_health19, encoding = \"ISO-8859-1\")"
   ]
  },
  {
   "cell_type": "code",
   "execution_count": 3,
   "id": "b735be1c-5e05-4970-94db-d8ee033e3d88",
   "metadata": {
    "vscode": {
     "languageId": "quarto"
    }
   },
   "outputs": [
    {
     "name": "stdout",
     "output_type": "stream",
     "text": [
      "These are the variables I selected:  Index(['PRVDR_CTGRY_SBTYP_CD', 'PRVDR_CTGRY_CD', 'FAC_NAME', 'PRVDR_NUM',\n",
      "       'STATE_CD', 'SSA_STATE_CD', 'ST_ADR', 'PGM_TRMNTN_CD',\n",
      "       'TRMNTN_EXPRTN_DT', 'ZIP_CD', 'FIPS_STATE_CD', 'FY_END_MO_DAY_CD'],\n",
      "      dtype='object')\n"
     ]
    }
   ],
   "source": [
    "variables_list = health16.columns\n",
    "\n",
    "print(\"These are the variables I selected: \", variables_list)"
   ]
  },
  {
   "cell_type": "code",
   "execution_count": 4,
   "id": "5b2d8567-381c-4c75-a0a7-75778d0f94cb",
   "metadata": {
    "vscode": {
     "languageId": "quarto"
    }
   },
   "outputs": [],
   "source": [
    "def short_term(X):\n",
    "  Y = X[(X[\"PRVDR_CTGRY_SBTYP_CD\"] == 1) & (X[\"PRVDR_CTGRY_CD\"] == 1)]\n",
    "  return(Y)"
   ]
  },
  {
   "cell_type": "code",
   "execution_count": 5,
   "id": "10959bb0-1ee8-4b4d-9b81-29d37e93815e",
   "metadata": {
    "vscode": {
     "languageId": "quarto"
    }
   },
   "outputs": [
    {
     "name": "stdout",
     "output_type": "stream",
     "text": [
      "There are  7245  hospitals in this dataset\n"
     ]
    }
   ],
   "source": [
    "short16 = short_term(health16)\n",
    "\n",
    "print(\"There are \", len(short16), \" hospitals in this dataset\")"
   ]
  },
  {
   "cell_type": "code",
   "execution_count": 6,
   "id": "c8135372-44d1-40a8-bcbd-0dd2a0e5363d",
   "metadata": {
    "vscode": {
     "languageId": "quarto"
    }
   },
   "outputs": [],
   "source": [
    "short17 = short_term(health17)"
   ]
  },
  {
   "cell_type": "code",
   "execution_count": 7,
   "id": "d1be1e38-a0a9-427f-815f-7495eb0e8734",
   "metadata": {
    "vscode": {
     "languageId": "quarto"
    }
   },
   "outputs": [],
   "source": [
    "short18 = short_term(health18)"
   ]
  },
  {
   "cell_type": "code",
   "execution_count": 8,
   "id": "f4675380-fbed-43c4-a030-109e9bac81fd",
   "metadata": {
    "vscode": {
     "languageId": "quarto"
    }
   },
   "outputs": [],
   "source": [
    "short19 = short_term(health19)"
   ]
  },
  {
   "cell_type": "code",
   "execution_count": 9,
   "id": "58bd4ac1-6fa2-4da3-85a9-cf19bb990c15",
   "metadata": {
    "vscode": {
     "languageId": "quarto"
    }
   },
   "outputs": [
    {
     "name": "stderr",
     "output_type": "stream",
     "text": [
      "<ipython-input-9-874d8cbc73b8>:8: SettingWithCopyWarning: \n",
      "A value is trying to be set on a copy of a slice from a DataFrame.\n",
      "Try using .loc[row_indexer,col_indexer] = value instead\n",
      "\n",
      "See the caveats in the documentation: https://pandas.pydata.org/pandas-docs/stable/user_guide/indexing.html#returning-a-view-versus-a-copy\n",
      "  X[\"Year\"] = year_col\n",
      "<ipython-input-9-874d8cbc73b8>:8: SettingWithCopyWarning: \n",
      "A value is trying to be set on a copy of a slice from a DataFrame.\n",
      "Try using .loc[row_indexer,col_indexer] = value instead\n",
      "\n",
      "See the caveats in the documentation: https://pandas.pydata.org/pandas-docs/stable/user_guide/indexing.html#returning-a-view-versus-a-copy\n",
      "  X[\"Year\"] = year_col\n",
      "<ipython-input-9-874d8cbc73b8>:8: SettingWithCopyWarning: \n",
      "A value is trying to be set on a copy of a slice from a DataFrame.\n",
      "Try using .loc[row_indexer,col_indexer] = value instead\n",
      "\n",
      "See the caveats in the documentation: https://pandas.pydata.org/pandas-docs/stable/user_guide/indexing.html#returning-a-view-versus-a-copy\n",
      "  X[\"Year\"] = year_col\n",
      "<ipython-input-9-874d8cbc73b8>:8: SettingWithCopyWarning: \n",
      "A value is trying to be set on a copy of a slice from a DataFrame.\n",
      "Try using .loc[row_indexer,col_indexer] = value instead\n",
      "\n",
      "See the caveats in the documentation: https://pandas.pydata.org/pandas-docs/stable/user_guide/indexing.html#returning-a-view-versus-a-copy\n",
      "  X[\"Year\"] = year_col\n"
     ]
    },
    {
     "data": {
      "text/html": [
       "<div>\n",
       "<style scoped>\n",
       "    .dataframe tbody tr th:only-of-type {\n",
       "        vertical-align: middle;\n",
       "    }\n",
       "\n",
       "    .dataframe tbody tr th {\n",
       "        vertical-align: top;\n",
       "    }\n",
       "\n",
       "    .dataframe thead th {\n",
       "        text-align: right;\n",
       "    }\n",
       "</style>\n",
       "<table border=\"1\" class=\"dataframe\">\n",
       "  <thead>\n",
       "    <tr style=\"text-align: right;\">\n",
       "      <th></th>\n",
       "      <th>PRVDR_CTGRY_SBTYP_CD</th>\n",
       "      <th>PRVDR_CTGRY_CD</th>\n",
       "      <th>FAC_NAME</th>\n",
       "      <th>PRVDR_NUM</th>\n",
       "      <th>STATE_CD</th>\n",
       "      <th>SSA_STATE_CD</th>\n",
       "      <th>ST_ADR</th>\n",
       "      <th>PGM_TRMNTN_CD</th>\n",
       "      <th>TRMNTN_EXPRTN_DT</th>\n",
       "      <th>ZIP_CD</th>\n",
       "      <th>FIPS_STATE_CD</th>\n",
       "      <th>FY_END_MO_DAY_CD</th>\n",
       "      <th>Year</th>\n",
       "    </tr>\n",
       "  </thead>\n",
       "  <tbody>\n",
       "    <tr>\n",
       "      <th>0</th>\n",
       "      <td>1.0</td>\n",
       "      <td>1</td>\n",
       "      <td>SOUTHEAST ALABAMA MEDICAL CENTER</td>\n",
       "      <td>010001</td>\n",
       "      <td>AL</td>\n",
       "      <td>1</td>\n",
       "      <td>1108 ROSS CLARK CIRCLE</td>\n",
       "      <td>0</td>\n",
       "      <td>NaN</td>\n",
       "      <td>36301.0</td>\n",
       "      <td>1.0</td>\n",
       "      <td>930.0</td>\n",
       "      <td>2019</td>\n",
       "    </tr>\n",
       "    <tr>\n",
       "      <th>1</th>\n",
       "      <td>1.0</td>\n",
       "      <td>1</td>\n",
       "      <td>NORTH JACKSON HOSPITAL</td>\n",
       "      <td>010004</td>\n",
       "      <td>AL</td>\n",
       "      <td>1</td>\n",
       "      <td>47005 U S HIGHWAY 72</td>\n",
       "      <td>1</td>\n",
       "      <td>20010831.0</td>\n",
       "      <td>35740.0</td>\n",
       "      <td>1.0</td>\n",
       "      <td>930.0</td>\n",
       "      <td>2019</td>\n",
       "    </tr>\n",
       "    <tr>\n",
       "      <th>2</th>\n",
       "      <td>1.0</td>\n",
       "      <td>1</td>\n",
       "      <td>MARSHALL MEDICAL CENTERS SOUTH CAMPUS</td>\n",
       "      <td>010005</td>\n",
       "      <td>AL</td>\n",
       "      <td>1</td>\n",
       "      <td>2505 U S HIGHWAY 431 NORTH</td>\n",
       "      <td>0</td>\n",
       "      <td>NaN</td>\n",
       "      <td>35957.0</td>\n",
       "      <td>1.0</td>\n",
       "      <td>930.0</td>\n",
       "      <td>2019</td>\n",
       "    </tr>\n",
       "    <tr>\n",
       "      <th>3</th>\n",
       "      <td>1.0</td>\n",
       "      <td>1</td>\n",
       "      <td>NORTH ALABAMA MEDICAL CENTER</td>\n",
       "      <td>010006</td>\n",
       "      <td>AL</td>\n",
       "      <td>1</td>\n",
       "      <td>1701 VETERANS DRIVE</td>\n",
       "      <td>0</td>\n",
       "      <td>NaN</td>\n",
       "      <td>35630.0</td>\n",
       "      <td>1.0</td>\n",
       "      <td>630.0</td>\n",
       "      <td>2019</td>\n",
       "    </tr>\n",
       "    <tr>\n",
       "      <th>4</th>\n",
       "      <td>1.0</td>\n",
       "      <td>1</td>\n",
       "      <td>MIZELL MEMORIAL HOSPITAL</td>\n",
       "      <td>010007</td>\n",
       "      <td>AL</td>\n",
       "      <td>1</td>\n",
       "      <td>702 N MAIN ST</td>\n",
       "      <td>0</td>\n",
       "      <td>NaN</td>\n",
       "      <td>36467.0</td>\n",
       "      <td>1.0</td>\n",
       "      <td>930.0</td>\n",
       "      <td>2019</td>\n",
       "    </tr>\n",
       "    <tr>\n",
       "      <th>...</th>\n",
       "      <td>...</td>\n",
       "      <td>...</td>\n",
       "      <td>...</td>\n",
       "      <td>...</td>\n",
       "      <td>...</td>\n",
       "      <td>...</td>\n",
       "      <td>...</td>\n",
       "      <td>...</td>\n",
       "      <td>...</td>\n",
       "      <td>...</td>\n",
       "      <td>...</td>\n",
       "      <td>...</td>\n",
       "      <td>...</td>\n",
       "    </tr>\n",
       "    <tr>\n",
       "      <th>139514</th>\n",
       "      <td>1.0</td>\n",
       "      <td>1</td>\n",
       "      <td>CROCKETT MEDICAL CENTER</td>\n",
       "      <td>670126</td>\n",
       "      <td>TX</td>\n",
       "      <td>45</td>\n",
       "      <td>1100 E LOOP 304</td>\n",
       "      <td>7</td>\n",
       "      <td>20190131.0</td>\n",
       "      <td>75835.0</td>\n",
       "      <td>48.0</td>\n",
       "      <td>1231.0</td>\n",
       "      <td>2019</td>\n",
       "    </tr>\n",
       "    <tr>\n",
       "      <th>139515</th>\n",
       "      <td>1.0</td>\n",
       "      <td>1</td>\n",
       "      <td>EL PASO LTAC HOSPTIAL</td>\n",
       "      <td>670127</td>\n",
       "      <td>TX</td>\n",
       "      <td>45</td>\n",
       "      <td>1221 N COTTON ST 3RD FLOOR</td>\n",
       "      <td>7</td>\n",
       "      <td>20190630.0</td>\n",
       "      <td>79902.0</td>\n",
       "      <td>48.0</td>\n",
       "      <td>1231.0</td>\n",
       "      <td>2019</td>\n",
       "    </tr>\n",
       "    <tr>\n",
       "      <th>139516</th>\n",
       "      <td>1.0</td>\n",
       "      <td>1</td>\n",
       "      <td>BAYLOR SCOTT &amp; WHITE MEDICAL CENTER  PFLUGERV...</td>\n",
       "      <td>670128</td>\n",
       "      <td>TX</td>\n",
       "      <td>45</td>\n",
       "      <td>2600 EAST  PFLUGERVILLE  PARKWAY</td>\n",
       "      <td>0</td>\n",
       "      <td>NaN</td>\n",
       "      <td>78660.0</td>\n",
       "      <td>48.0</td>\n",
       "      <td>930.0</td>\n",
       "      <td>2019</td>\n",
       "    </tr>\n",
       "    <tr>\n",
       "      <th>139517</th>\n",
       "      <td>1.0</td>\n",
       "      <td>1</td>\n",
       "      <td>THE HEIGHTS HOSPITAL</td>\n",
       "      <td>670129</td>\n",
       "      <td>TX</td>\n",
       "      <td>45</td>\n",
       "      <td>1917 ASHLAND STREET, SUITE 300</td>\n",
       "      <td>0</td>\n",
       "      <td>NaN</td>\n",
       "      <td>77008.0</td>\n",
       "      <td>48.0</td>\n",
       "      <td>1231.0</td>\n",
       "      <td>2019</td>\n",
       "    </tr>\n",
       "    <tr>\n",
       "      <th>139518</th>\n",
       "      <td>1.0</td>\n",
       "      <td>1</td>\n",
       "      <td>SOUTHCROSS HOSPITAL</td>\n",
       "      <td>670130</td>\n",
       "      <td>TX</td>\n",
       "      <td>45</td>\n",
       "      <td>4243 EAST SOUTHCROSS BLVD SUITE 100</td>\n",
       "      <td>0</td>\n",
       "      <td>NaN</td>\n",
       "      <td>78222.0</td>\n",
       "      <td>48.0</td>\n",
       "      <td>1231.0</td>\n",
       "      <td>2019</td>\n",
       "    </tr>\n",
       "  </tbody>\n",
       "</table>\n",
       "<p>7303 rows × 13 columns</p>\n",
       "</div>"
      ],
      "text/plain": [
       "        PRVDR_CTGRY_SBTYP_CD  PRVDR_CTGRY_CD  \\\n",
       "0                        1.0               1   \n",
       "1                        1.0               1   \n",
       "2                        1.0               1   \n",
       "3                        1.0               1   \n",
       "4                        1.0               1   \n",
       "...                      ...             ...   \n",
       "139514                   1.0               1   \n",
       "139515                   1.0               1   \n",
       "139516                   1.0               1   \n",
       "139517                   1.0               1   \n",
       "139518                   1.0               1   \n",
       "\n",
       "                                                 FAC_NAME PRVDR_NUM STATE_CD  \\\n",
       "0                        SOUTHEAST ALABAMA MEDICAL CENTER    010001       AL   \n",
       "1                                  NORTH JACKSON HOSPITAL    010004       AL   \n",
       "2                   MARSHALL MEDICAL CENTERS SOUTH CAMPUS    010005       AL   \n",
       "3                            NORTH ALABAMA MEDICAL CENTER    010006       AL   \n",
       "4                                MIZELL MEMORIAL HOSPITAL    010007       AL   \n",
       "...                                                   ...       ...      ...   \n",
       "139514                            CROCKETT MEDICAL CENTER    670126       TX   \n",
       "139515                              EL PASO LTAC HOSPTIAL    670127       TX   \n",
       "139516  BAYLOR SCOTT & WHITE MEDICAL CENTER  PFLUGERV...    670128       TX   \n",
       "139517                               THE HEIGHTS HOSPITAL    670129       TX   \n",
       "139518                                SOUTHCROSS HOSPITAL    670130       TX   \n",
       "\n",
       "        SSA_STATE_CD                               ST_ADR  PGM_TRMNTN_CD  \\\n",
       "0                  1               1108 ROSS CLARK CIRCLE              0   \n",
       "1                  1                 47005 U S HIGHWAY 72              1   \n",
       "2                  1           2505 U S HIGHWAY 431 NORTH              0   \n",
       "3                  1                  1701 VETERANS DRIVE              0   \n",
       "4                  1                        702 N MAIN ST              0   \n",
       "...              ...                                  ...            ...   \n",
       "139514            45                      1100 E LOOP 304              7   \n",
       "139515            45           1221 N COTTON ST 3RD FLOOR              7   \n",
       "139516            45     2600 EAST  PFLUGERVILLE  PARKWAY              0   \n",
       "139517            45       1917 ASHLAND STREET, SUITE 300              0   \n",
       "139518            45  4243 EAST SOUTHCROSS BLVD SUITE 100              0   \n",
       "\n",
       "        TRMNTN_EXPRTN_DT   ZIP_CD  FIPS_STATE_CD  FY_END_MO_DAY_CD  Year  \n",
       "0                    NaN  36301.0            1.0             930.0  2019  \n",
       "1             20010831.0  35740.0            1.0             930.0  2019  \n",
       "2                    NaN  35957.0            1.0             930.0  2019  \n",
       "3                    NaN  35630.0            1.0             630.0  2019  \n",
       "4                    NaN  36467.0            1.0             930.0  2019  \n",
       "...                  ...      ...            ...               ...   ...  \n",
       "139514        20190131.0  75835.0           48.0            1231.0  2019  \n",
       "139515        20190630.0  79902.0           48.0            1231.0  2019  \n",
       "139516               NaN  78660.0           48.0             930.0  2019  \n",
       "139517               NaN  77008.0           48.0            1231.0  2019  \n",
       "139518               NaN  78222.0           48.0            1231.0  2019  \n",
       "\n",
       "[7303 rows x 13 columns]"
      ]
     },
     "execution_count": 9,
     "metadata": {},
     "output_type": "execute_result"
    }
   ],
   "source": [
    "# add a \"year\" column to each dataset, for future disagg\n",
    "def add_column(X, the_year):\n",
    "  year_col = []\n",
    "  i = 0\n",
    "  while i < len(X):\n",
    "    year_col.append(the_year)\n",
    "    i += 1\n",
    "  X[\"Year\"] = year_col\n",
    "  return(X)\n",
    "\n",
    "#run on each dataframe\n",
    "add_column(short16, 2016)\n",
    "\n",
    "add_column(short17, 2017)\n",
    "\n",
    "add_column(short18, 2018)\n",
    "\n",
    "add_column(short19, 2019)"
   ]
  },
  {
   "cell_type": "code",
   "execution_count": 10,
   "id": "9d37b5c0-53b0-4f85-bcc0-b25c3ff6834d",
   "metadata": {
    "vscode": {
     "languageId": "quarto"
    }
   },
   "outputs": [
    {
     "data": {
      "text/html": [
       "<div>\n",
       "<style scoped>\n",
       "    .dataframe tbody tr th:only-of-type {\n",
       "        vertical-align: middle;\n",
       "    }\n",
       "\n",
       "    .dataframe tbody tr th {\n",
       "        vertical-align: top;\n",
       "    }\n",
       "\n",
       "    .dataframe thead th {\n",
       "        text-align: right;\n",
       "    }\n",
       "</style>\n",
       "<table border=\"1\" class=\"dataframe\">\n",
       "  <thead>\n",
       "    <tr style=\"text-align: right;\">\n",
       "      <th></th>\n",
       "      <th>PRVDR_CTGRY_SBTYP_CD</th>\n",
       "      <th>PRVDR_CTGRY_CD</th>\n",
       "      <th>FAC_NAME</th>\n",
       "      <th>PRVDR_NUM</th>\n",
       "      <th>STATE_CD</th>\n",
       "      <th>SSA_STATE_CD</th>\n",
       "      <th>ST_ADR</th>\n",
       "      <th>PGM_TRMNTN_CD</th>\n",
       "      <th>TRMNTN_EXPRTN_DT</th>\n",
       "      <th>ZIP_CD</th>\n",
       "      <th>FIPS_STATE_CD</th>\n",
       "      <th>FY_END_MO_DAY_CD</th>\n",
       "      <th>Year</th>\n",
       "    </tr>\n",
       "  </thead>\n",
       "  <tbody>\n",
       "    <tr>\n",
       "      <th>0</th>\n",
       "      <td>1.0</td>\n",
       "      <td>1</td>\n",
       "      <td>SOUTHEAST ALABAMA MEDICAL CENTER</td>\n",
       "      <td>010001</td>\n",
       "      <td>AL</td>\n",
       "      <td>1</td>\n",
       "      <td>1108 ROSS CLARK CIRCLE</td>\n",
       "      <td>0</td>\n",
       "      <td>NaN</td>\n",
       "      <td>36301.0</td>\n",
       "      <td>1.0</td>\n",
       "      <td>930.0</td>\n",
       "      <td>2016</td>\n",
       "    </tr>\n",
       "    <tr>\n",
       "      <th>1</th>\n",
       "      <td>1.0</td>\n",
       "      <td>1</td>\n",
       "      <td>NORTH JACKSON HOSPITAL</td>\n",
       "      <td>010004</td>\n",
       "      <td>AL</td>\n",
       "      <td>1</td>\n",
       "      <td>47005 U S HIGHWAY 72</td>\n",
       "      <td>1</td>\n",
       "      <td>20010831.0</td>\n",
       "      <td>35740.0</td>\n",
       "      <td>1.0</td>\n",
       "      <td>930.0</td>\n",
       "      <td>2016</td>\n",
       "    </tr>\n",
       "    <tr>\n",
       "      <th>2</th>\n",
       "      <td>1.0</td>\n",
       "      <td>1</td>\n",
       "      <td>MARSHALL MEDICAL CENTER SOUTH</td>\n",
       "      <td>010005</td>\n",
       "      <td>AL</td>\n",
       "      <td>1</td>\n",
       "      <td>2505 U S HIGHWAY 431 NORTH</td>\n",
       "      <td>0</td>\n",
       "      <td>NaN</td>\n",
       "      <td>35957.0</td>\n",
       "      <td>1.0</td>\n",
       "      <td>930.0</td>\n",
       "      <td>2016</td>\n",
       "    </tr>\n",
       "    <tr>\n",
       "      <th>3</th>\n",
       "      <td>1.0</td>\n",
       "      <td>1</td>\n",
       "      <td>ELIZA COFFEE MEMORIAL HOSPITAL</td>\n",
       "      <td>010006</td>\n",
       "      <td>AL</td>\n",
       "      <td>1</td>\n",
       "      <td>205 MARENGO STREET</td>\n",
       "      <td>0</td>\n",
       "      <td>NaN</td>\n",
       "      <td>35631.0</td>\n",
       "      <td>1.0</td>\n",
       "      <td>630.0</td>\n",
       "      <td>2016</td>\n",
       "    </tr>\n",
       "    <tr>\n",
       "      <th>4</th>\n",
       "      <td>1.0</td>\n",
       "      <td>1</td>\n",
       "      <td>MIZELL MEMORIAL HOSPITAL</td>\n",
       "      <td>010007</td>\n",
       "      <td>AL</td>\n",
       "      <td>1</td>\n",
       "      <td>702 N MAIN ST</td>\n",
       "      <td>0</td>\n",
       "      <td>NaN</td>\n",
       "      <td>36467.0</td>\n",
       "      <td>1.0</td>\n",
       "      <td>930.0</td>\n",
       "      <td>2016</td>\n",
       "    </tr>\n",
       "    <tr>\n",
       "      <th>...</th>\n",
       "      <td>...</td>\n",
       "      <td>...</td>\n",
       "      <td>...</td>\n",
       "      <td>...</td>\n",
       "      <td>...</td>\n",
       "      <td>...</td>\n",
       "      <td>...</td>\n",
       "      <td>...</td>\n",
       "      <td>...</td>\n",
       "      <td>...</td>\n",
       "      <td>...</td>\n",
       "      <td>...</td>\n",
       "      <td>...</td>\n",
       "    </tr>\n",
       "    <tr>\n",
       "      <th>29080</th>\n",
       "      <td>1.0</td>\n",
       "      <td>1</td>\n",
       "      <td>CROCKETT MEDICAL CENTER</td>\n",
       "      <td>670126</td>\n",
       "      <td>TX</td>\n",
       "      <td>45</td>\n",
       "      <td>1100 E LOOP 304</td>\n",
       "      <td>7</td>\n",
       "      <td>20190131.0</td>\n",
       "      <td>75835.0</td>\n",
       "      <td>48.0</td>\n",
       "      <td>1231.0</td>\n",
       "      <td>2019</td>\n",
       "    </tr>\n",
       "    <tr>\n",
       "      <th>29081</th>\n",
       "      <td>1.0</td>\n",
       "      <td>1</td>\n",
       "      <td>EL PASO LTAC HOSPTIAL</td>\n",
       "      <td>670127</td>\n",
       "      <td>TX</td>\n",
       "      <td>45</td>\n",
       "      <td>1221 N COTTON ST 3RD FLOOR</td>\n",
       "      <td>7</td>\n",
       "      <td>20190630.0</td>\n",
       "      <td>79902.0</td>\n",
       "      <td>48.0</td>\n",
       "      <td>1231.0</td>\n",
       "      <td>2019</td>\n",
       "    </tr>\n",
       "    <tr>\n",
       "      <th>29082</th>\n",
       "      <td>1.0</td>\n",
       "      <td>1</td>\n",
       "      <td>BAYLOR SCOTT &amp; WHITE MEDICAL CENTER  PFLUGERV...</td>\n",
       "      <td>670128</td>\n",
       "      <td>TX</td>\n",
       "      <td>45</td>\n",
       "      <td>2600 EAST  PFLUGERVILLE  PARKWAY</td>\n",
       "      <td>0</td>\n",
       "      <td>NaN</td>\n",
       "      <td>78660.0</td>\n",
       "      <td>48.0</td>\n",
       "      <td>930.0</td>\n",
       "      <td>2019</td>\n",
       "    </tr>\n",
       "    <tr>\n",
       "      <th>29083</th>\n",
       "      <td>1.0</td>\n",
       "      <td>1</td>\n",
       "      <td>THE HEIGHTS HOSPITAL</td>\n",
       "      <td>670129</td>\n",
       "      <td>TX</td>\n",
       "      <td>45</td>\n",
       "      <td>1917 ASHLAND STREET, SUITE 300</td>\n",
       "      <td>0</td>\n",
       "      <td>NaN</td>\n",
       "      <td>77008.0</td>\n",
       "      <td>48.0</td>\n",
       "      <td>1231.0</td>\n",
       "      <td>2019</td>\n",
       "    </tr>\n",
       "    <tr>\n",
       "      <th>29084</th>\n",
       "      <td>1.0</td>\n",
       "      <td>1</td>\n",
       "      <td>SOUTHCROSS HOSPITAL</td>\n",
       "      <td>670130</td>\n",
       "      <td>TX</td>\n",
       "      <td>45</td>\n",
       "      <td>4243 EAST SOUTHCROSS BLVD SUITE 100</td>\n",
       "      <td>0</td>\n",
       "      <td>NaN</td>\n",
       "      <td>78222.0</td>\n",
       "      <td>48.0</td>\n",
       "      <td>1231.0</td>\n",
       "      <td>2019</td>\n",
       "    </tr>\n",
       "  </tbody>\n",
       "</table>\n",
       "<p>29085 rows × 13 columns</p>\n",
       "</div>"
      ],
      "text/plain": [
       "       PRVDR_CTGRY_SBTYP_CD  PRVDR_CTGRY_CD  \\\n",
       "0                       1.0               1   \n",
       "1                       1.0               1   \n",
       "2                       1.0               1   \n",
       "3                       1.0               1   \n",
       "4                       1.0               1   \n",
       "...                     ...             ...   \n",
       "29080                   1.0               1   \n",
       "29081                   1.0               1   \n",
       "29082                   1.0               1   \n",
       "29083                   1.0               1   \n",
       "29084                   1.0               1   \n",
       "\n",
       "                                                FAC_NAME PRVDR_NUM STATE_CD  \\\n",
       "0                       SOUTHEAST ALABAMA MEDICAL CENTER    010001       AL   \n",
       "1                                 NORTH JACKSON HOSPITAL    010004       AL   \n",
       "2                          MARSHALL MEDICAL CENTER SOUTH    010005       AL   \n",
       "3                         ELIZA COFFEE MEMORIAL HOSPITAL    010006       AL   \n",
       "4                               MIZELL MEMORIAL HOSPITAL    010007       AL   \n",
       "...                                                  ...       ...      ...   \n",
       "29080                            CROCKETT MEDICAL CENTER    670126       TX   \n",
       "29081                              EL PASO LTAC HOSPTIAL    670127       TX   \n",
       "29082  BAYLOR SCOTT & WHITE MEDICAL CENTER  PFLUGERV...    670128       TX   \n",
       "29083                               THE HEIGHTS HOSPITAL    670129       TX   \n",
       "29084                                SOUTHCROSS HOSPITAL    670130       TX   \n",
       "\n",
       "       SSA_STATE_CD                               ST_ADR  PGM_TRMNTN_CD  \\\n",
       "0                 1               1108 ROSS CLARK CIRCLE              0   \n",
       "1                 1                 47005 U S HIGHWAY 72              1   \n",
       "2                 1           2505 U S HIGHWAY 431 NORTH              0   \n",
       "3                 1                   205 MARENGO STREET              0   \n",
       "4                 1                        702 N MAIN ST              0   \n",
       "...             ...                                  ...            ...   \n",
       "29080            45                      1100 E LOOP 304              7   \n",
       "29081            45           1221 N COTTON ST 3RD FLOOR              7   \n",
       "29082            45     2600 EAST  PFLUGERVILLE  PARKWAY              0   \n",
       "29083            45       1917 ASHLAND STREET, SUITE 300              0   \n",
       "29084            45  4243 EAST SOUTHCROSS BLVD SUITE 100              0   \n",
       "\n",
       "       TRMNTN_EXPRTN_DT   ZIP_CD  FIPS_STATE_CD FY_END_MO_DAY_CD  Year  \n",
       "0                   NaN  36301.0            1.0            930.0  2016  \n",
       "1            20010831.0  35740.0            1.0            930.0  2016  \n",
       "2                   NaN  35957.0            1.0            930.0  2016  \n",
       "3                   NaN  35631.0            1.0            630.0  2016  \n",
       "4                   NaN  36467.0            1.0            930.0  2016  \n",
       "...                 ...      ...            ...              ...   ...  \n",
       "29080        20190131.0  75835.0           48.0           1231.0  2019  \n",
       "29081        20190630.0  79902.0           48.0           1231.0  2019  \n",
       "29082               NaN  78660.0           48.0            930.0  2019  \n",
       "29083               NaN  77008.0           48.0           1231.0  2019  \n",
       "29084               NaN  78222.0           48.0           1231.0  2019  \n",
       "\n",
       "[29085 rows x 13 columns]"
      ]
     },
     "execution_count": 10,
     "metadata": {},
     "output_type": "execute_result"
    }
   ],
   "source": [
    "concat_1 = pd.concat([short16, short17], axis = 0)\n",
    "\n",
    "concat_2 = pd.concat([concat_1, short18], axis = 0)\n",
    "\n",
    "df_health = pd.concat([concat_2, short19], axis = 0)\n",
    "\n",
    "df_health.reset_index(drop = True)"
   ]
  },
  {
   "cell_type": "code",
   "execution_count": 11,
   "id": "1ec3ae31-eb47-4a84-a07a-835629d74f4f",
   "metadata": {
    "vscode": {
     "languageId": "quarto"
    }
   },
   "outputs": [],
   "source": [
    "def  one_dummy(C):\n",
    "  observation = []\n",
    "  i = 0\n",
    "  while 1 > 0 and i < C:\n",
    "    observation.append(1)\n",
    "    i += 1\n",
    "  return(observation)\n",
    "\n",
    "#add observation column to df\n",
    "df_health[\"Observation\"] = one_dummy(len(df_health))"
   ]
  },
  {
   "cell_type": "code",
   "execution_count": 12,
   "id": "f8041d02-7fa6-4c92-ae44-213dbd117cdb",
   "metadata": {
    "vscode": {
     "languageId": "quarto"
    }
   },
   "outputs": [
    {
     "ename": "NameError",
     "evalue": "name 'PGM_TRMNTN_CD' is not defined",
     "output_type": "error",
     "traceback": [
      "\u001b[0;31m---------------------------------------------------------------------------\u001b[0m",
      "\u001b[0;31mNameError\u001b[0m                                 Traceback (most recent call last)",
      "File \u001b[1;32m/Users/justinesilverstein/Desktop/problem-set-4-andrew-justine/pset4_template.qmd:1\u001b[0m\n\u001b[0;32m----> 1\u001b[0m active_2016 \u001b[39m=\u001b[39m df_health[df_health[PGM_TRMNTN_CD]\u001b[39m==\u001b[39m\u001b[39m0\u001b[39m \u001b[39m&\u001b[39m df_health[df_health[Year]\u001b[39m==\u001b[39m \u001b[39m2016\u001b[39m]]\n\u001b[1;32m      4\u001b[0m \u001b[39m#suspected_closures = []\u001b[39;00m\n",
      "\u001b[0;31mNameError\u001b[0m: name 'PGM_TRMNTN_CD' is not defined"
     ]
    }
   ],
   "source": [
    "active_2016 = df_health[df_health[PGM_TRMNTN_CD]==0 & df_health[df_health[Year]== 2016]]\n",
    "\n",
    "\n",
    "#suspected_closures = []"
   ]
  },
  {
   "cell_type": "code",
   "execution_count": 13,
   "id": "cd6ff6e2-8c7e-4af4-affd-d043d55e20f7",
   "metadata": {
    "vscode": {
     "languageId": "quarto"
    }
   },
   "outputs": [
    {
     "ename": "TypeError",
     "evalue": "Cannot perform 'rand_' with a dtyped [float64] array and scalar of type [bool]",
     "output_type": "error",
     "traceback": [
      "\u001b[0;31m---------------------------------------------------------------------------\u001b[0m",
      "\u001b[0;31mTypeError\u001b[0m                                 Traceback (most recent call last)",
      "File \u001b[0;32m~/Library/Python/3.9/lib/python/site-packages/pandas/core/ops/array_ops.py:362\u001b[0m, in \u001b[0;36mna_logical_op\u001b[0;34m(x, y, op)\u001b[0m\n\u001b[1;32m    353\u001b[0m \u001b[39mtry\u001b[39;00m:\n\u001b[1;32m    354\u001b[0m     \u001b[39m# For exposition, write:\u001b[39;00m\n\u001b[1;32m    355\u001b[0m     \u001b[39m#  yarr = isinstance(y, np.ndarray)\u001b[39;00m\n\u001b[0;32m   (...)\u001b[0m\n\u001b[1;32m    360\u001b[0m     \u001b[39m# Then Cases where this goes through without raising include:\u001b[39;00m\n\u001b[1;32m    361\u001b[0m     \u001b[39m#  (xint or xbool) and (yint or bool)\u001b[39;00m\n\u001b[0;32m--> 362\u001b[0m     result \u001b[39m=\u001b[39m op(x, y)\n\u001b[1;32m    363\u001b[0m \u001b[39mexcept\u001b[39;00m \u001b[39mTypeError\u001b[39;00m:\n",
      "File \u001b[0;32m~/Library/Python/3.9/lib/python/site-packages/pandas/core/roperator.py:54\u001b[0m, in \u001b[0;36mrand_\u001b[0;34m(left, right)\u001b[0m\n\u001b[1;32m     53\u001b[0m \u001b[39mdef\u001b[39;00m \u001b[39mrand_\u001b[39m(left, right):\n\u001b[0;32m---> 54\u001b[0m     \u001b[39mreturn\u001b[39;00m operator\u001b[39m.\u001b[39;49mand_(right, left)\n",
      "\u001b[0;31mTypeError\u001b[0m: ufunc 'bitwise_and' not supported for the input types, and the inputs could not be safely coerced to any supported types according to the casting rule ''safe''",
      "\nDuring handling of the above exception, another exception occurred:\n",
      "\u001b[0;31mValueError\u001b[0m                                Traceback (most recent call last)",
      "File \u001b[0;32m~/Library/Python/3.9/lib/python/site-packages/pandas/core/ops/array_ops.py:376\u001b[0m, in \u001b[0;36mna_logical_op\u001b[0;34m(x, y, op)\u001b[0m\n\u001b[1;32m    375\u001b[0m \u001b[39mtry\u001b[39;00m:\n\u001b[0;32m--> 376\u001b[0m     result \u001b[39m=\u001b[39m libops\u001b[39m.\u001b[39;49mscalar_binop(x, y, op)\n\u001b[1;32m    377\u001b[0m \u001b[39mexcept\u001b[39;00m (\n\u001b[1;32m    378\u001b[0m     \u001b[39mTypeError\u001b[39;00m,\n\u001b[1;32m    379\u001b[0m     \u001b[39mValueError\u001b[39;00m,\n\u001b[0;32m   (...)\u001b[0m\n\u001b[1;32m    382\u001b[0m     \u001b[39mNotImplementedError\u001b[39;00m,\n\u001b[1;32m    383\u001b[0m ) \u001b[39mas\u001b[39;00m err:\n",
      "File \u001b[0;32mops.pyx:180\u001b[0m, in \u001b[0;36mpandas._libs.ops.scalar_binop\u001b[0;34m()\u001b[0m\n",
      "\u001b[0;31mValueError\u001b[0m: Buffer has wrong number of dimensions (expected 1, got 2)",
      "\nThe above exception was the direct cause of the following exception:\n",
      "\u001b[0;31mTypeError\u001b[0m                                 Traceback (most recent call last)",
      "File \u001b[1;32m/Users/justinesilverstein/Desktop/problem-set-4-andrew-justine/pset4_template.qmd:1\u001b[0m\n\u001b[0;32m----> 1\u001b[0m active_2016 \u001b[39m=\u001b[39m df_health[df_health[\u001b[39m'\u001b[39m\u001b[39mPGM_TRMNTN_CD\u001b[39m\u001b[39m'\u001b[39m]\u001b[39m==\u001b[39m\u001b[39m0\u001b[39;49m \u001b[39m&\u001b[39;49m df_health[df_health[\u001b[39m'\u001b[39;49m\u001b[39mYear\u001b[39;49m\u001b[39m'\u001b[39;49m]\u001b[39m==\u001b[39;49m \u001b[39m2016\u001b[39;49m]]\n\u001b[1;32m      4\u001b[0m \u001b[39m#suspected_closures = []\u001b[39;00m\n",
      "File \u001b[0;32m~/Library/Python/3.9/lib/python/site-packages/pandas/core/ops/common.py:76\u001b[0m, in \u001b[0;36m_unpack_zerodim_and_defer.<locals>.new_method\u001b[0;34m(self, other)\u001b[0m\n\u001b[1;32m     72\u001b[0m             \u001b[39mreturn\u001b[39;00m \u001b[39mNotImplemented\u001b[39m\n\u001b[1;32m     74\u001b[0m other \u001b[39m=\u001b[39m item_from_zerodim(other)\n\u001b[0;32m---> 76\u001b[0m \u001b[39mreturn\u001b[39;00m method(\u001b[39mself\u001b[39;49m, other)\n",
      "File \u001b[0;32m~/Library/Python/3.9/lib/python/site-packages/pandas/core/arraylike.py:74\u001b[0m, in \u001b[0;36mOpsMixin.__rand__\u001b[0;34m(self, other)\u001b[0m\n\u001b[1;32m     72\u001b[0m \u001b[39m@unpack_zerodim_and_defer\u001b[39m(\u001b[39m\"\u001b[39m\u001b[39m__rand__\u001b[39m\u001b[39m\"\u001b[39m)\n\u001b[1;32m     73\u001b[0m \u001b[39mdef\u001b[39;00m \u001b[39m__rand__\u001b[39m(\u001b[39mself\u001b[39m, other):\n\u001b[0;32m---> 74\u001b[0m     \u001b[39mreturn\u001b[39;00m \u001b[39mself\u001b[39;49m\u001b[39m.\u001b[39;49m_logical_method(other, roperator\u001b[39m.\u001b[39;49mrand_)\n",
      "File \u001b[0;32m~/Library/Python/3.9/lib/python/site-packages/pandas/core/frame.py:7913\u001b[0m, in \u001b[0;36mDataFrame._arith_method\u001b[0;34m(self, other, op)\u001b[0m\n\u001b[1;32m   7910\u001b[0m \u001b[39mself\u001b[39m, other \u001b[39m=\u001b[39m \u001b[39mself\u001b[39m\u001b[39m.\u001b[39m_align_for_op(other, axis, flex\u001b[39m=\u001b[39m\u001b[39mTrue\u001b[39;00m, level\u001b[39m=\u001b[39m\u001b[39mNone\u001b[39;00m)\n\u001b[1;32m   7912\u001b[0m \u001b[39mwith\u001b[39;00m np\u001b[39m.\u001b[39merrstate(\u001b[39mall\u001b[39m\u001b[39m=\u001b[39m\u001b[39m\"\u001b[39m\u001b[39mignore\u001b[39m\u001b[39m\"\u001b[39m):\n\u001b[0;32m-> 7913\u001b[0m     new_data \u001b[39m=\u001b[39m \u001b[39mself\u001b[39;49m\u001b[39m.\u001b[39;49m_dispatch_frame_op(other, op, axis\u001b[39m=\u001b[39;49maxis)\n\u001b[1;32m   7914\u001b[0m \u001b[39mreturn\u001b[39;00m \u001b[39mself\u001b[39m\u001b[39m.\u001b[39m_construct_result(new_data)\n",
      "File \u001b[0;32m~/Library/Python/3.9/lib/python/site-packages/pandas/core/frame.py:7945\u001b[0m, in \u001b[0;36mDataFrame._dispatch_frame_op\u001b[0;34m(self, right, func, axis)\u001b[0m\n\u001b[1;32m   7942\u001b[0m right \u001b[39m=\u001b[39m lib\u001b[39m.\u001b[39mitem_from_zerodim(right)\n\u001b[1;32m   7943\u001b[0m \u001b[39mif\u001b[39;00m \u001b[39mnot\u001b[39;00m is_list_like(right):\n\u001b[1;32m   7944\u001b[0m     \u001b[39m# i.e. scalar, faster than checking np.ndim(right) == 0\u001b[39;00m\n\u001b[0;32m-> 7945\u001b[0m     bm \u001b[39m=\u001b[39m \u001b[39mself\u001b[39;49m\u001b[39m.\u001b[39;49m_mgr\u001b[39m.\u001b[39;49mapply(array_op, right\u001b[39m=\u001b[39;49mright)\n\u001b[1;32m   7946\u001b[0m     \u001b[39mreturn\u001b[39;00m \u001b[39mself\u001b[39m\u001b[39m.\u001b[39m_constructor_from_mgr(bm, axes\u001b[39m=\u001b[39mbm\u001b[39m.\u001b[39maxes)\n\u001b[1;32m   7948\u001b[0m \u001b[39melif\u001b[39;00m \u001b[39misinstance\u001b[39m(right, DataFrame):\n",
      "File \u001b[0;32m~/Library/Python/3.9/lib/python/site-packages/pandas/core/internals/managers.py:361\u001b[0m, in \u001b[0;36mBaseBlockManager.apply\u001b[0;34m(self, f, align_keys, **kwargs)\u001b[0m\n\u001b[1;32m    358\u001b[0m             kwargs[k] \u001b[39m=\u001b[39m obj[b\u001b[39m.\u001b[39mmgr_locs\u001b[39m.\u001b[39mindexer]\n\u001b[1;32m    360\u001b[0m \u001b[39mif\u001b[39;00m \u001b[39mcallable\u001b[39m(f):\n\u001b[0;32m--> 361\u001b[0m     applied \u001b[39m=\u001b[39m b\u001b[39m.\u001b[39;49mapply(f, \u001b[39m*\u001b[39;49m\u001b[39m*\u001b[39;49mkwargs)\n\u001b[1;32m    362\u001b[0m \u001b[39melse\u001b[39;00m:\n\u001b[1;32m    363\u001b[0m     applied \u001b[39m=\u001b[39m \u001b[39mgetattr\u001b[39m(b, f)(\u001b[39m*\u001b[39m\u001b[39m*\u001b[39mkwargs)\n",
      "File \u001b[0;32m~/Library/Python/3.9/lib/python/site-packages/pandas/core/internals/blocks.py:393\u001b[0m, in \u001b[0;36mBlock.apply\u001b[0;34m(self, func, **kwargs)\u001b[0m\n\u001b[1;32m    387\u001b[0m \u001b[39m@final\u001b[39m\n\u001b[1;32m    388\u001b[0m \u001b[39mdef\u001b[39;00m \u001b[39mapply\u001b[39m(\u001b[39mself\u001b[39m, func, \u001b[39m*\u001b[39m\u001b[39m*\u001b[39mkwargs) \u001b[39m-\u001b[39m\u001b[39m>\u001b[39m \u001b[39mlist\u001b[39m[Block]:\n\u001b[1;32m    389\u001b[0m \u001b[39m    \u001b[39m\u001b[39m\"\"\"\u001b[39;00m\n\u001b[1;32m    390\u001b[0m \u001b[39m    apply the function to my values; return a block if we are not\u001b[39;00m\n\u001b[1;32m    391\u001b[0m \u001b[39m    one\u001b[39;00m\n\u001b[1;32m    392\u001b[0m \u001b[39m    \"\"\"\u001b[39;00m\n\u001b[0;32m--> 393\u001b[0m     result \u001b[39m=\u001b[39m func(\u001b[39mself\u001b[39;49m\u001b[39m.\u001b[39;49mvalues, \u001b[39m*\u001b[39;49m\u001b[39m*\u001b[39;49mkwargs)\n\u001b[1;32m    395\u001b[0m     result \u001b[39m=\u001b[39m maybe_coerce_values(result)\n\u001b[1;32m    396\u001b[0m     \u001b[39mreturn\u001b[39;00m \u001b[39mself\u001b[39m\u001b[39m.\u001b[39m_split_op_result(result)\n",
      "File \u001b[0;32m~/Library/Python/3.9/lib/python/site-packages/pandas/core/ops/array_ops.py:454\u001b[0m, in \u001b[0;36mlogical_op\u001b[0;34m(left, right, op)\u001b[0m\n\u001b[1;32m    450\u001b[0m \u001b[39melse\u001b[39;00m:\n\u001b[1;32m    451\u001b[0m     \u001b[39m# i.e. scalar\u001b[39;00m\n\u001b[1;32m    452\u001b[0m     is_other_int_dtype \u001b[39m=\u001b[39m lib\u001b[39m.\u001b[39mis_integer(rvalues)\n\u001b[0;32m--> 454\u001b[0m res_values \u001b[39m=\u001b[39m na_logical_op(lvalues, rvalues, op)\n\u001b[1;32m    456\u001b[0m \u001b[39m# For int vs int `^`, `|`, `&` are bitwise operators and return\u001b[39;00m\n\u001b[1;32m    457\u001b[0m \u001b[39m#   integer dtypes.  Otherwise these are boolean ops\u001b[39;00m\n\u001b[1;32m    458\u001b[0m \u001b[39mif\u001b[39;00m \u001b[39mnot\u001b[39;00m (left\u001b[39m.\u001b[39mdtype\u001b[39m.\u001b[39mkind \u001b[39min\u001b[39;00m \u001b[39m\"\u001b[39m\u001b[39miu\u001b[39m\u001b[39m\"\u001b[39m \u001b[39mand\u001b[39;00m is_other_int_dtype):\n",
      "File \u001b[0;32m~/Library/Python/3.9/lib/python/site-packages/pandas/core/ops/array_ops.py:385\u001b[0m, in \u001b[0;36mna_logical_op\u001b[0;34m(x, y, op)\u001b[0m\n\u001b[1;32m    377\u001b[0m         \u001b[39mexcept\u001b[39;00m (\n\u001b[1;32m    378\u001b[0m             \u001b[39mTypeError\u001b[39;00m,\n\u001b[1;32m    379\u001b[0m             \u001b[39mValueError\u001b[39;00m,\n\u001b[0;32m   (...)\u001b[0m\n\u001b[1;32m    382\u001b[0m             \u001b[39mNotImplementedError\u001b[39;00m,\n\u001b[1;32m    383\u001b[0m         ) \u001b[39mas\u001b[39;00m err:\n\u001b[1;32m    384\u001b[0m             typ \u001b[39m=\u001b[39m \u001b[39mtype\u001b[39m(y)\u001b[39m.\u001b[39m\u001b[39m__name__\u001b[39m\n\u001b[0;32m--> 385\u001b[0m             \u001b[39mraise\u001b[39;00m \u001b[39mTypeError\u001b[39;00m(\n\u001b[1;32m    386\u001b[0m                 \u001b[39mf\u001b[39m\u001b[39m\"\u001b[39m\u001b[39mCannot perform \u001b[39m\u001b[39m'\u001b[39m\u001b[39m{\u001b[39;00mop\u001b[39m.\u001b[39m\u001b[39m__name__\u001b[39m\u001b[39m}\u001b[39;00m\u001b[39m'\u001b[39m\u001b[39m with a dtyped [\u001b[39m\u001b[39m{\u001b[39;00mx\u001b[39m.\u001b[39mdtype\u001b[39m}\u001b[39;00m\u001b[39m] array \u001b[39m\u001b[39m\"\u001b[39m\n\u001b[1;32m    387\u001b[0m                 \u001b[39mf\u001b[39m\u001b[39m\"\u001b[39m\u001b[39mand scalar of type [\u001b[39m\u001b[39m{\u001b[39;00mtyp\u001b[39m}\u001b[39;00m\u001b[39m]\u001b[39m\u001b[39m\"\u001b[39m\n\u001b[1;32m    388\u001b[0m             ) \u001b[39mfrom\u001b[39;00m \u001b[39merr\u001b[39;00m\n\u001b[1;32m    390\u001b[0m \u001b[39mreturn\u001b[39;00m result\u001b[39m.\u001b[39mreshape(x\u001b[39m.\u001b[39mshape)\n",
      "\u001b[0;31mTypeError\u001b[0m: Cannot perform 'rand_' with a dtyped [float64] array and scalar of type [bool]"
     ]
    }
   ],
   "source": [
    "active_2016 = df_health[df_health['PGM_TRMNTN_CD']==0 & df_health[df_health['Year']== 2016]]\n",
    "\n",
    "\n",
    "#suspected_closures = []"
   ]
  },
  {
   "cell_type": "code",
   "execution_count": 14,
   "id": "78f98895-a81b-4c60-957f-d20ca4e7fe5b",
   "metadata": {
    "vscode": {
     "languageId": "quarto"
    }
   },
   "outputs": [
    {
     "ename": "SyntaxError",
     "evalue": "unmatched ']' (<ipython-input-14-5b1159b12002>, line 1)",
     "output_type": "error",
     "traceback": [
      "\u001b[0;36m  Cell \u001b[0;32mIn[14], line 1\u001b[0;36m\u001b[0m\n\u001b[0;31m    active_2016 = df_health[df_health['PGM_TRMNTN_CD']==0 & 'Year'== 2016]]\u001b[0m\n\u001b[0m                                                                          ^\u001b[0m\n\u001b[0;31mSyntaxError\u001b[0m\u001b[0;31m:\u001b[0m unmatched ']'\n"
     ]
    }
   ],
   "source": [
    "active_2016 = df_health[df_health['PGM_TRMNTN_CD']==0 & 'Year'== 2016]]\n",
    "\n",
    "\n",
    "#suspected_closures = []"
   ]
  },
  {
   "cell_type": "code",
   "execution_count": 15,
   "id": "e3683b89-23d4-4780-a501-59f995f3be55",
   "metadata": {
    "vscode": {
     "languageId": "quarto"
    }
   },
   "outputs": [
    {
     "ename": "TypeError",
     "evalue": "unsupported operand type(s) for &: 'int' and 'str'",
     "output_type": "error",
     "traceback": [
      "\u001b[0;31m---------------------------------------------------------------------------\u001b[0m",
      "\u001b[0;31mTypeError\u001b[0m                                 Traceback (most recent call last)",
      "File \u001b[1;32m/Users/justinesilverstein/Desktop/problem-set-4-andrew-justine/pset4_template.qmd:1\u001b[0m\n\u001b[0;32m----> 1\u001b[0m active_2016 \u001b[39m=\u001b[39m df_health[df_health[\u001b[39m'\u001b[39m\u001b[39mPGM_TRMNTN_CD\u001b[39m\u001b[39m'\u001b[39m]\u001b[39m==\u001b[39m\u001b[39m0\u001b[39;49m \u001b[39m&\u001b[39;49m \u001b[39m'\u001b[39;49m\u001b[39mYear\u001b[39;49m\u001b[39m'\u001b[39;49m\u001b[39m==\u001b[39m \u001b[39m2016\u001b[39m]\n\u001b[1;32m      4\u001b[0m \u001b[39m#suspected_closures = []\u001b[39;00m\n",
      "\u001b[0;31mTypeError\u001b[0m: unsupported operand type(s) for &: 'int' and 'str'"
     ]
    }
   ],
   "source": [
    "active_2016 = df_health[df_health['PGM_TRMNTN_CD']==0 & 'Year'== 2016]\n",
    "\n",
    "\n",
    "#suspected_closures = []"
   ]
  },
  {
   "cell_type": "code",
   "execution_count": 16,
   "id": "45c0cf2b-a8c9-47c9-9fd7-d5b5ebf89368",
   "metadata": {
    "vscode": {
     "languageId": "quarto"
    }
   },
   "outputs": [],
   "source": [
    "active_2016 = df_health[(df_health['PGM_TRMNTN_CD'] == 0) & (df_health['Year'] == 2016)]\n",
    "\n",
    "\n",
    "\n",
    "#suspected_closures = []"
   ]
  },
  {
   "cell_type": "code",
   "execution_count": 17,
   "id": "183be0be-fd16-4670-b6d1-4857146633e5",
   "metadata": {
    "vscode": {
     "languageId": "quarto"
    }
   },
   "outputs": [],
   "source": [
    "def  one_dummy(C):\n",
    "  observation = []\n",
    "  i = 0\n",
    "  while 1 > 0 and i < C:\n",
    "    observation.append(1)\n",
    "    i += 1\n",
    "  return(observation)\n",
    "\n",
    "#add observation column to df\n",
    "df_health[\"Observation\"] = one_dummy(len(df_health))"
   ]
  },
  {
   "cell_type": "code",
   "execution_count": 18,
   "id": "63752fe3-d9fd-4e7e-993c-a57c0b1b67b1",
   "metadata": {
    "vscode": {
     "languageId": "quarto"
    }
   },
   "outputs": [
    {
     "ename": "NameError",
     "evalue": "name 'active_df' is not defined",
     "output_type": "error",
     "traceback": [
      "\u001b[0;31m---------------------------------------------------------------------------\u001b[0m",
      "\u001b[0;31mNameError\u001b[0m                                 Traceback (most recent call last)",
      "File \u001b[1;32m/Users/justinesilverstein/Desktop/problem-set-4-andrew-justine/pset4_template.qmd:21\u001b[0m\n\u001b[1;32m     14\u001b[0m                 suspected_closures \u001b[39m=\u001b[39m suspected_closures\u001b[39m.\u001b[39mappend({\n\u001b[1;32m     15\u001b[0m                     \u001b[39m'\u001b[39m\u001b[39mFAC_NAME\u001b[39m\u001b[39m'\u001b[39m: facility_name,\n\u001b[1;32m     16\u001b[0m                     \u001b[39m'\u001b[39m\u001b[39mZIP_CD\u001b[39m\u001b[39m'\u001b[39m: zip_code,\n\u001b[1;32m     17\u001b[0m                     \u001b[39m'\u001b[39m\u001b[39mYear\u001b[39m\u001b[39m'\u001b[39m: year\n\u001b[1;32m     18\u001b[0m                 }, ignore_index\u001b[39m=\u001b[39m\u001b[39mTrue\u001b[39;00m)\n\u001b[1;32m     19\u001b[0m     \u001b[39mreturn\u001b[39;00m suspected_closures\n\u001b[0;32m---> 21\u001b[0m suspected_closures \u001b[39m=\u001b[39m find_suspected_closures(active_2016, df_health)\n",
      "File \u001b[1;32m/Users/justinesilverstein/Desktop/problem-set-4-andrew-justine/pset4_template.qmd:6\u001b[0m\n\u001b[1;32m      3\u001b[0m \u001b[39mdef\u001b[39;00m \u001b[39mfind_suspected_closures\u001b[39m(active_2016, df_health):\n\u001b[1;32m      4\u001b[0m     suspected_closures \u001b[39m=\u001b[39m pd\u001b[39m.\u001b[39mDataFrame(columns\u001b[39m=\u001b[39m[\u001b[39m'\u001b[39m\u001b[39mFAC_NAME\u001b[39m\u001b[39m'\u001b[39m, \u001b[39m'\u001b[39m\u001b[39mZIP_CD\u001b[39m\u001b[39m'\u001b[39m, \u001b[39m'\u001b[39m\u001b[39mYear\u001b[39m\u001b[39m'\u001b[39m])\n\u001b[0;32m----> 6\u001b[0m     \u001b[39mfor\u001b[39;00m index, row \u001b[39min\u001b[39;00m active_df\u001b[39m.\u001b[39miterrows():\n\u001b[1;32m      7\u001b[0m         facility_name \u001b[39m=\u001b[39m row[\u001b[39m'\u001b[39m\u001b[39mFAC_NAME\u001b[39m\u001b[39m'\u001b[39m]\n\u001b[1;32m      8\u001b[0m         zip_code \u001b[39m=\u001b[39m row[\u001b[39m'\u001b[39m\u001b[39mZIP_CD\u001b[39m\u001b[39m'\u001b[39m]\n",
      "\u001b[0;31mNameError\u001b[0m: name 'active_df' is not defined"
     ]
    }
   ],
   "source": [
    "active_2016 = df_health[(df_health['PGM_TRMNTN_CD'] == 0) & (df_health['Year'] == 2016)]\n",
    "\n",
    "def find_suspected_closures(active_2016, df_health):\n",
    "    suspected_closures = pd.DataFrame(columns=['FAC_NAME', 'ZIP_CD', 'Year'])\n",
    "    \n",
    "    for index, row in active_df.iterrows():\n",
    "        facility_name = row['FAC_NAME']\n",
    "        zip_code = row['ZIP_CD']\n",
    "\n",
    "        for year in range(2017, 2020):\n",
    "            closed_check = full_df[(full_df['FAC_NAME'] == facility_name) & (full_df['Year'] == year)]\n",
    "            \n",
    "            if not closed_check.empty and closed_check['PGM_TRMNTN_CD'].values[0] != 0:\n",
    "                suspected_closures = suspected_closures.append({\n",
    "                    'FAC_NAME': facility_name,\n",
    "                    'ZIP_CD': zip_code,\n",
    "                    'Year': year\n",
    "                }, ignore_index=True)\n",
    "    return suspected_closures\n",
    "\n",
    "suspected_closures = find_suspected_closures(active_2016, df_health)"
   ]
  },
  {
   "cell_type": "code",
   "execution_count": 19,
   "id": "88a28eb0-2c30-4099-912e-a4b3f22c7c26",
   "metadata": {
    "vscode": {
     "languageId": "quarto"
    }
   },
   "outputs": [
    {
     "ename": "NameError",
     "evalue": "name 'full_df' is not defined",
     "output_type": "error",
     "traceback": [
      "\u001b[0;31m---------------------------------------------------------------------------\u001b[0m",
      "\u001b[0;31mNameError\u001b[0m                                 Traceback (most recent call last)",
      "File \u001b[1;32m/Users/justinesilverstein/Desktop/problem-set-4-andrew-justine/pset4_template.qmd:21\u001b[0m\n\u001b[1;32m     14\u001b[0m                 suspected_closures \u001b[39m=\u001b[39m suspected_closures\u001b[39m.\u001b[39mappend({\n\u001b[1;32m     15\u001b[0m                     \u001b[39m'\u001b[39m\u001b[39mFAC_NAME\u001b[39m\u001b[39m'\u001b[39m: facility_name,\n\u001b[1;32m     16\u001b[0m                     \u001b[39m'\u001b[39m\u001b[39mZIP_CD\u001b[39m\u001b[39m'\u001b[39m: zip_code,\n\u001b[1;32m     17\u001b[0m                     \u001b[39m'\u001b[39m\u001b[39mYear\u001b[39m\u001b[39m'\u001b[39m: year\n\u001b[1;32m     18\u001b[0m                 }, ignore_index\u001b[39m=\u001b[39m\u001b[39mTrue\u001b[39;00m)\n\u001b[1;32m     19\u001b[0m     \u001b[39mreturn\u001b[39;00m suspected_closures\n\u001b[0;32m---> 21\u001b[0m suspected_closures \u001b[39m=\u001b[39m find_suspected_closures(active_2016, df_health)\n",
      "File \u001b[1;32m/Users/justinesilverstein/Desktop/problem-set-4-andrew-justine/pset4_template.qmd:11\u001b[0m\n\u001b[1;32m      8\u001b[0m zip_code \u001b[39m=\u001b[39m row[\u001b[39m'\u001b[39m\u001b[39mZIP_CD\u001b[39m\u001b[39m'\u001b[39m]\n\u001b[1;32m     10\u001b[0m \u001b[39mfor\u001b[39;00m Year \u001b[39min\u001b[39;00m \u001b[39mrange\u001b[39m(\u001b[39m2017\u001b[39m, \u001b[39m2020\u001b[39m):\n\u001b[0;32m---> 11\u001b[0m     closed_check \u001b[39m=\u001b[39m full_df[(df_health[\u001b[39m'\u001b[39m\u001b[39mFAC_NAME\u001b[39m\u001b[39m'\u001b[39m] \u001b[39m==\u001b[39m FAC_NAME) \u001b[39m&\u001b[39m (df_health[\u001b[39m'\u001b[39m\u001b[39mYear\u001b[39m\u001b[39m'\u001b[39m] \u001b[39m==\u001b[39m Year)]\n\u001b[1;32m     13\u001b[0m     \u001b[39mif\u001b[39;00m \u001b[39mnot\u001b[39;00m closed_check\u001b[39m.\u001b[39mempty \u001b[39mand\u001b[39;00m closed_check[\u001b[39m'\u001b[39m\u001b[39mPGM_TRMNTN_CD\u001b[39m\u001b[39m'\u001b[39m]\u001b[39m.\u001b[39mvalues[\u001b[39m0\u001b[39m] \u001b[39m!=\u001b[39m \u001b[39m0\u001b[39m:\n\u001b[1;32m     14\u001b[0m         suspected_closures \u001b[39m=\u001b[39m suspected_closures\u001b[39m.\u001b[39mappend({\n\u001b[1;32m     15\u001b[0m             \u001b[39m'\u001b[39m\u001b[39mFAC_NAME\u001b[39m\u001b[39m'\u001b[39m: facility_name,\n\u001b[1;32m     16\u001b[0m             \u001b[39m'\u001b[39m\u001b[39mZIP_CD\u001b[39m\u001b[39m'\u001b[39m: zip_code,\n\u001b[1;32m     17\u001b[0m             \u001b[39m'\u001b[39m\u001b[39mYear\u001b[39m\u001b[39m'\u001b[39m: year\n\u001b[1;32m     18\u001b[0m         }, ignore_index\u001b[39m=\u001b[39m\u001b[39mTrue\u001b[39;00m)\n",
      "\u001b[0;31mNameError\u001b[0m: name 'full_df' is not defined"
     ]
    }
   ],
   "source": [
    "active_2016 = df_health[(df_health['PGM_TRMNTN_CD'] == 0) & (df_health['Year'] == 2016)]\n",
    "\n",
    "def find_suspected_closures(active_2016, df_health):\n",
    "    suspected_closures = pd.DataFrame(columns=['FAC_NAME', 'ZIP_CD', 'Year'])\n",
    "    \n",
    "    for index, row in active_2016.iterrows():\n",
    "        facility_name = row['FAC_NAME']\n",
    "        zip_code = row['ZIP_CD']\n",
    "\n",
    "        for Year in range(2017, 2020):\n",
    "            closed_check = full_df[(df_health['FAC_NAME'] == FAC_NAME) & (df_health['Year'] == Year)]\n",
    "            \n",
    "            if not closed_check.empty and closed_check['PGM_TRMNTN_CD'].values[0] != 0:\n",
    "                suspected_closures = suspected_closures.append({\n",
    "                    'FAC_NAME': facility_name,\n",
    "                    'ZIP_CD': zip_code,\n",
    "                    'Year': year\n",
    "                }, ignore_index=True)\n",
    "    return suspected_closures\n",
    "\n",
    "suspected_closures = find_suspected_closures(active_2016, df_health)"
   ]
  },
  {
   "cell_type": "code",
   "execution_count": 20,
   "id": "9be89d4b-a743-4843-8d6b-eb3ec06e3b69",
   "metadata": {
    "vscode": {
     "languageId": "quarto"
    }
   },
   "outputs": [
    {
     "ename": "NameError",
     "evalue": "name 'FAC_NAME' is not defined",
     "output_type": "error",
     "traceback": [
      "\u001b[0;31m---------------------------------------------------------------------------\u001b[0m",
      "\u001b[0;31mNameError\u001b[0m                                 Traceback (most recent call last)",
      "File \u001b[1;32m/Users/justinesilverstein/Desktop/problem-set-4-andrew-justine/pset4_template.qmd:21\u001b[0m\n\u001b[1;32m     14\u001b[0m                 suspected_closures \u001b[39m=\u001b[39m suspected_closures\u001b[39m.\u001b[39mappend({\n\u001b[1;32m     15\u001b[0m                     \u001b[39m'\u001b[39m\u001b[39mFAC_NAME\u001b[39m\u001b[39m'\u001b[39m: facility_name,\n\u001b[1;32m     16\u001b[0m                     \u001b[39m'\u001b[39m\u001b[39mZIP_CD\u001b[39m\u001b[39m'\u001b[39m: zip_code,\n\u001b[1;32m     17\u001b[0m                     \u001b[39m'\u001b[39m\u001b[39mYear\u001b[39m\u001b[39m'\u001b[39m: year\n\u001b[1;32m     18\u001b[0m                 }, ignore_index\u001b[39m=\u001b[39m\u001b[39mTrue\u001b[39;00m)\n\u001b[1;32m     19\u001b[0m     \u001b[39mreturn\u001b[39;00m suspected_closures\n\u001b[0;32m---> 21\u001b[0m suspected_closures \u001b[39m=\u001b[39m find_suspected_closures(active_2016, df_health)\n",
      "File \u001b[1;32m/Users/justinesilverstein/Desktop/problem-set-4-andrew-justine/pset4_template.qmd:11\u001b[0m\n\u001b[1;32m      8\u001b[0m zip_code \u001b[39m=\u001b[39m row[\u001b[39m'\u001b[39m\u001b[39mZIP_CD\u001b[39m\u001b[39m'\u001b[39m]\n\u001b[1;32m     10\u001b[0m \u001b[39mfor\u001b[39;00m Year \u001b[39min\u001b[39;00m \u001b[39mrange\u001b[39m(\u001b[39m2017\u001b[39m, \u001b[39m2020\u001b[39m):\n\u001b[0;32m---> 11\u001b[0m     closed_check \u001b[39m=\u001b[39m df_health[(df_health[\u001b[39m'\u001b[39m\u001b[39mFAC_NAME\u001b[39m\u001b[39m'\u001b[39m] \u001b[39m==\u001b[39m FAC_NAME) \u001b[39m&\u001b[39m (df_health[\u001b[39m'\u001b[39m\u001b[39mYear\u001b[39m\u001b[39m'\u001b[39m] \u001b[39m==\u001b[39m Year)]\n\u001b[1;32m     13\u001b[0m     \u001b[39mif\u001b[39;00m \u001b[39mnot\u001b[39;00m closed_check\u001b[39m.\u001b[39mempty \u001b[39mand\u001b[39;00m closed_check[\u001b[39m'\u001b[39m\u001b[39mPGM_TRMNTN_CD\u001b[39m\u001b[39m'\u001b[39m]\u001b[39m.\u001b[39mvalues[\u001b[39m0\u001b[39m] \u001b[39m!=\u001b[39m \u001b[39m0\u001b[39m:\n\u001b[1;32m     14\u001b[0m         suspected_closures \u001b[39m=\u001b[39m suspected_closures\u001b[39m.\u001b[39mappend({\n\u001b[1;32m     15\u001b[0m             \u001b[39m'\u001b[39m\u001b[39mFAC_NAME\u001b[39m\u001b[39m'\u001b[39m: facility_name,\n\u001b[1;32m     16\u001b[0m             \u001b[39m'\u001b[39m\u001b[39mZIP_CD\u001b[39m\u001b[39m'\u001b[39m: zip_code,\n\u001b[1;32m     17\u001b[0m             \u001b[39m'\u001b[39m\u001b[39mYear\u001b[39m\u001b[39m'\u001b[39m: year\n\u001b[1;32m     18\u001b[0m         }, ignore_index\u001b[39m=\u001b[39m\u001b[39mTrue\u001b[39;00m)\n",
      "\u001b[0;31mNameError\u001b[0m: name 'FAC_NAME' is not defined"
     ]
    }
   ],
   "source": [
    "active_2016 = df_health[(df_health['PGM_TRMNTN_CD'] == 0) & (df_health['Year'] == 2016)]\n",
    "\n",
    "def find_suspected_closures(active_2016, df_health):\n",
    "    suspected_closures = pd.DataFrame(columns=['FAC_NAME', 'ZIP_CD', 'Year'])\n",
    "    \n",
    "    for index, row in active_2016.iterrows():\n",
    "        facility_name = row['FAC_NAME']\n",
    "        zip_code = row['ZIP_CD']\n",
    "\n",
    "        for Year in range(2017, 2020):\n",
    "            closed_check = df_health[(df_health['FAC_NAME'] == FAC_NAME) & (df_health['Year'] == Year)]\n",
    "            \n",
    "            if not closed_check.empty and closed_check['PGM_TRMNTN_CD'].values[0] != 0:\n",
    "                suspected_closures = suspected_closures.append({\n",
    "                    'FAC_NAME': facility_name,\n",
    "                    'ZIP_CD': zip_code,\n",
    "                    'Year': year\n",
    "                }, ignore_index=True)\n",
    "    return suspected_closures\n",
    "\n",
    "suspected_closures = find_suspected_closures(active_2016, df_health)"
   ]
  },
  {
   "cell_type": "code",
   "execution_count": 21,
   "id": "b4860c6b-717f-4878-b0d4-c175cf4e4e0a",
   "metadata": {
    "vscode": {
     "languageId": "quarto"
    }
   },
   "outputs": [
    {
     "ename": "AttributeError",
     "evalue": "'DataFrame' object has no attribute 'append'",
     "output_type": "error",
     "traceback": [
      "\u001b[0;31m---------------------------------------------------------------------------\u001b[0m",
      "\u001b[0;31mAttributeError\u001b[0m                            Traceback (most recent call last)",
      "\u001b[0;32m<ipython-input-21-d38119a588da>\u001b[0m in \u001b[0;36m?\u001b[0;34m()\u001b[0m\n\u001b[0;32m---> 21\u001b[0;31m \u001b[0mactive_2016\u001b[0m \u001b[0;34m=\u001b[0m \u001b[0mdf_health\u001b[0m\u001b[0;34m[\u001b[0m\u001b[0;34m(\u001b[0m\u001b[0mdf_health\u001b[0m\u001b[0;34m[\u001b[0m\u001b[0;34m'PGM_TRMNTN_CD'\u001b[0m\u001b[0;34m]\u001b[0m \u001b[0;34m==\u001b[0m \u001b[0;36m0\u001b[0m\u001b[0;34m)\u001b[0m \u001b[0;34m&\u001b[0m \u001b[0;34m(\u001b[0m\u001b[0mdf_health\u001b[0m\u001b[0;34m[\u001b[0m\u001b[0;34m'Year'\u001b[0m\u001b[0;34m]\u001b[0m \u001b[0;34m==\u001b[0m \u001b[0;36m2016\u001b[0m\u001b[0;34m)\u001b[0m\u001b[0;34m]\u001b[0m\u001b[0;34m\u001b[0m\u001b[0;34m\u001b[0m\u001b[0m\n\u001b[0m\u001b[1;32m     22\u001b[0m \u001b[0;34m\u001b[0m\u001b[0m\n\u001b[1;32m     23\u001b[0m \u001b[0;32mdef\u001b[0m \u001b[0mfind_suspected_closures\u001b[0m\u001b[0;34m(\u001b[0m\u001b[0mactive_2016\u001b[0m\u001b[0;34m,\u001b[0m \u001b[0mdf_health\u001b[0m\u001b[0;34m)\u001b[0m\u001b[0;34m:\u001b[0m\u001b[0;34m\u001b[0m\u001b[0;34m\u001b[0m\u001b[0m\n\u001b[1;32m     24\u001b[0m     \u001b[0msuspected_closures\u001b[0m \u001b[0;34m=\u001b[0m \u001b[0mpd\u001b[0m\u001b[0;34m.\u001b[0m\u001b[0mDataFrame\u001b[0m\u001b[0;34m(\u001b[0m\u001b[0mcolumns\u001b[0m\u001b[0;34m=\u001b[0m\u001b[0;34m[\u001b[0m\u001b[0;34m'FAC_NAME'\u001b[0m\u001b[0;34m,\u001b[0m \u001b[0;34m'ZIP_CD'\u001b[0m\u001b[0;34m,\u001b[0m \u001b[0;34m'Year'\u001b[0m\u001b[0;34m]\u001b[0m\u001b[0;34m)\u001b[0m\u001b[0;34m\u001b[0m\u001b[0;34m\u001b[0m\u001b[0m\n",
      "\u001b[0;32m<ipython-input-21-d38119a588da>\u001b[0m in \u001b[0;36m?\u001b[0;34m(active_2016, df_health)\u001b[0m\n\u001b[1;32m     10\u001b[0m         \u001b[0;32mfor\u001b[0m \u001b[0mYear\u001b[0m \u001b[0;32min\u001b[0m \u001b[0mrange\u001b[0m\u001b[0;34m(\u001b[0m\u001b[0;36m2017\u001b[0m\u001b[0;34m,\u001b[0m \u001b[0;36m2020\u001b[0m\u001b[0;34m)\u001b[0m\u001b[0;34m:\u001b[0m\u001b[0;34m\u001b[0m\u001b[0;34m\u001b[0m\u001b[0m\n\u001b[1;32m     11\u001b[0m             \u001b[0mclosed_check\u001b[0m \u001b[0;34m=\u001b[0m \u001b[0mdf_health\u001b[0m\u001b[0;34m[\u001b[0m\u001b[0;34m(\u001b[0m\u001b[0mdf_health\u001b[0m\u001b[0;34m[\u001b[0m\u001b[0;34m'FAC_NAME'\u001b[0m\u001b[0;34m]\u001b[0m \u001b[0;34m==\u001b[0m \u001b[0mFAC_NAME\u001b[0m\u001b[0;34m)\u001b[0m \u001b[0;34m&\u001b[0m \u001b[0;34m(\u001b[0m\u001b[0mdf_health\u001b[0m\u001b[0;34m[\u001b[0m\u001b[0;34m'Year'\u001b[0m\u001b[0;34m]\u001b[0m \u001b[0;34m==\u001b[0m \u001b[0mYear\u001b[0m\u001b[0;34m)\u001b[0m\u001b[0;34m]\u001b[0m\u001b[0;34m\u001b[0m\u001b[0;34m\u001b[0m\u001b[0m\n\u001b[1;32m     12\u001b[0m \u001b[0;34m\u001b[0m\u001b[0m\n\u001b[1;32m     13\u001b[0m             \u001b[0;32mif\u001b[0m \u001b[0;32mnot\u001b[0m \u001b[0mclosed_check\u001b[0m\u001b[0;34m.\u001b[0m\u001b[0mempty\u001b[0m \u001b[0;32mand\u001b[0m \u001b[0mclosed_check\u001b[0m\u001b[0;34m[\u001b[0m\u001b[0;34m'PGM_TRMNTN_CD'\u001b[0m\u001b[0;34m]\u001b[0m\u001b[0;34m.\u001b[0m\u001b[0mvalues\u001b[0m\u001b[0;34m[\u001b[0m\u001b[0;36m0\u001b[0m\u001b[0;34m]\u001b[0m \u001b[0;34m!=\u001b[0m \u001b[0;36m0\u001b[0m\u001b[0;34m:\u001b[0m\u001b[0;34m\u001b[0m\u001b[0;34m\u001b[0m\u001b[0m\n\u001b[0;32m---> 14\u001b[0;31m                 suspected_closures = suspected_closures.append({\n\u001b[0m\u001b[1;32m     15\u001b[0m                     \u001b[0;34m'FAC_NAME'\u001b[0m\u001b[0;34m:\u001b[0m \u001b[0mfacility_name\u001b[0m\u001b[0;34m,\u001b[0m\u001b[0;34m\u001b[0m\u001b[0;34m\u001b[0m\u001b[0m\n\u001b[1;32m     16\u001b[0m                     \u001b[0;34m'ZIP_CD'\u001b[0m\u001b[0;34m:\u001b[0m \u001b[0mzip_code\u001b[0m\u001b[0;34m,\u001b[0m\u001b[0;34m\u001b[0m\u001b[0;34m\u001b[0m\u001b[0m\n\u001b[1;32m     17\u001b[0m                     \u001b[0;34m'Year'\u001b[0m\u001b[0;34m:\u001b[0m \u001b[0myear\u001b[0m\u001b[0;34m\u001b[0m\u001b[0;34m\u001b[0m\u001b[0m\n",
      "\u001b[0;32m~/Library/Python/3.9/lib/python/site-packages/pandas/core/generic.py\u001b[0m in \u001b[0;36m?\u001b[0;34m(self, name)\u001b[0m\n\u001b[1;32m   6295\u001b[0m             \u001b[0;32mand\u001b[0m \u001b[0mname\u001b[0m \u001b[0;32mnot\u001b[0m \u001b[0;32min\u001b[0m \u001b[0mself\u001b[0m\u001b[0;34m.\u001b[0m\u001b[0m_accessors\u001b[0m\u001b[0;34m\u001b[0m\u001b[0;34m\u001b[0m\u001b[0m\n\u001b[1;32m   6296\u001b[0m             \u001b[0;32mand\u001b[0m \u001b[0mself\u001b[0m\u001b[0;34m.\u001b[0m\u001b[0m_info_axis\u001b[0m\u001b[0;34m.\u001b[0m\u001b[0m_can_hold_identifiers_and_holds_name\u001b[0m\u001b[0;34m(\u001b[0m\u001b[0mname\u001b[0m\u001b[0;34m)\u001b[0m\u001b[0;34m\u001b[0m\u001b[0;34m\u001b[0m\u001b[0m\n\u001b[1;32m   6297\u001b[0m         ):\n\u001b[1;32m   6298\u001b[0m             \u001b[0;32mreturn\u001b[0m \u001b[0mself\u001b[0m\u001b[0;34m[\u001b[0m\u001b[0mname\u001b[0m\u001b[0;34m]\u001b[0m\u001b[0;34m\u001b[0m\u001b[0;34m\u001b[0m\u001b[0m\n\u001b[0;32m-> 6299\u001b[0;31m         \u001b[0;32mreturn\u001b[0m \u001b[0mobject\u001b[0m\u001b[0;34m.\u001b[0m\u001b[0m__getattribute__\u001b[0m\u001b[0;34m(\u001b[0m\u001b[0mself\u001b[0m\u001b[0;34m,\u001b[0m \u001b[0mname\u001b[0m\u001b[0;34m)\u001b[0m\u001b[0;34m\u001b[0m\u001b[0;34m\u001b[0m\u001b[0m\n\u001b[0m",
      "\u001b[0;31mAttributeError\u001b[0m: 'DataFrame' object has no attribute 'append'"
     ]
    }
   ],
   "source": [
    "active_2016 = df_health[(df_health['PGM_TRMNTN_CD'] == 0) & (df_health['Year'] == 2016)]\n",
    "\n",
    "def find_suspected_closures(active_2016, df_health):\n",
    "    suspected_closures = pd.DataFrame(columns=['FAC_NAME', 'ZIP_CD', 'Year'])\n",
    "    \n",
    "    for index, row in active_2016.iterrows():\n",
    "        FAC_NAME = row['FAC_NAME']\n",
    "        ZIP_CD = row['ZIP_CD']\n",
    "\n",
    "        for Year in range(2017, 2020):\n",
    "            closed_check = df_health[(df_health['FAC_NAME'] == FAC_NAME) & (df_health['Year'] == Year)]\n",
    "            \n",
    "            if not closed_check.empty and closed_check['PGM_TRMNTN_CD'].values[0] != 0:\n",
    "                suspected_closures = suspected_closures.append({\n",
    "                    'FAC_NAME': facility_name,\n",
    "                    'ZIP_CD': zip_code,\n",
    "                    'Year': year\n",
    "                }, ignore_index=True)\n",
    "    return suspected_closures\n",
    "\n",
    "suspected_closures = find_suspected_closures(active_2016, df_health)"
   ]
  },
  {
   "cell_type": "code",
   "execution_count": 22,
   "id": "26bf4c9d-08c8-4d05-be4c-6e8cd825533e",
   "metadata": {
    "vscode": {
     "languageId": "quarto"
    }
   },
   "outputs": [
    {
     "ename": "AttributeError",
     "evalue": "'DataFrame' object has no attribute 'concat'",
     "output_type": "error",
     "traceback": [
      "\u001b[0;31m---------------------------------------------------------------------------\u001b[0m",
      "\u001b[0;31mAttributeError\u001b[0m                            Traceback (most recent call last)",
      "\u001b[0;32m<ipython-input-22-e4a8c0460bbf>\u001b[0m in \u001b[0;36m?\u001b[0;34m()\u001b[0m\n\u001b[0;32m---> 21\u001b[0;31m \u001b[0mactive_2016\u001b[0m \u001b[0;34m=\u001b[0m \u001b[0mdf_health\u001b[0m\u001b[0;34m[\u001b[0m\u001b[0;34m(\u001b[0m\u001b[0mdf_health\u001b[0m\u001b[0;34m[\u001b[0m\u001b[0;34m'PGM_TRMNTN_CD'\u001b[0m\u001b[0;34m]\u001b[0m \u001b[0;34m==\u001b[0m \u001b[0;36m0\u001b[0m\u001b[0;34m)\u001b[0m \u001b[0;34m&\u001b[0m \u001b[0;34m(\u001b[0m\u001b[0mdf_health\u001b[0m\u001b[0;34m[\u001b[0m\u001b[0;34m'Year'\u001b[0m\u001b[0;34m]\u001b[0m \u001b[0;34m==\u001b[0m \u001b[0;36m2016\u001b[0m\u001b[0;34m)\u001b[0m\u001b[0;34m]\u001b[0m\u001b[0;34m\u001b[0m\u001b[0;34m\u001b[0m\u001b[0m\n\u001b[0m\u001b[1;32m     22\u001b[0m \u001b[0;34m\u001b[0m\u001b[0m\n\u001b[1;32m     23\u001b[0m \u001b[0;32mdef\u001b[0m \u001b[0mfind_suspected_closures\u001b[0m\u001b[0;34m(\u001b[0m\u001b[0mactive_2016\u001b[0m\u001b[0;34m,\u001b[0m \u001b[0mdf_health\u001b[0m\u001b[0;34m)\u001b[0m\u001b[0;34m:\u001b[0m\u001b[0;34m\u001b[0m\u001b[0;34m\u001b[0m\u001b[0m\n\u001b[1;32m     24\u001b[0m     \u001b[0msuspected_closures\u001b[0m \u001b[0;34m=\u001b[0m \u001b[0mpd\u001b[0m\u001b[0;34m.\u001b[0m\u001b[0mDataFrame\u001b[0m\u001b[0;34m(\u001b[0m\u001b[0mcolumns\u001b[0m\u001b[0;34m=\u001b[0m\u001b[0;34m[\u001b[0m\u001b[0;34m'FAC_NAME'\u001b[0m\u001b[0;34m,\u001b[0m \u001b[0;34m'ZIP_CD'\u001b[0m\u001b[0;34m,\u001b[0m \u001b[0;34m'Year'\u001b[0m\u001b[0;34m]\u001b[0m\u001b[0;34m)\u001b[0m\u001b[0;34m\u001b[0m\u001b[0;34m\u001b[0m\u001b[0m\n",
      "\u001b[0;32m<ipython-input-22-e4a8c0460bbf>\u001b[0m in \u001b[0;36m?\u001b[0;34m(active_2016, df_health)\u001b[0m\n\u001b[1;32m     10\u001b[0m         \u001b[0;32mfor\u001b[0m \u001b[0mYear\u001b[0m \u001b[0;32min\u001b[0m \u001b[0mrange\u001b[0m\u001b[0;34m(\u001b[0m\u001b[0;36m2017\u001b[0m\u001b[0;34m,\u001b[0m \u001b[0;36m2020\u001b[0m\u001b[0;34m)\u001b[0m\u001b[0;34m:\u001b[0m\u001b[0;34m\u001b[0m\u001b[0;34m\u001b[0m\u001b[0m\n\u001b[1;32m     11\u001b[0m             \u001b[0mclosed_check\u001b[0m \u001b[0;34m=\u001b[0m \u001b[0mdf_health\u001b[0m\u001b[0;34m[\u001b[0m\u001b[0;34m(\u001b[0m\u001b[0mdf_health\u001b[0m\u001b[0;34m[\u001b[0m\u001b[0;34m'FAC_NAME'\u001b[0m\u001b[0;34m]\u001b[0m \u001b[0;34m==\u001b[0m \u001b[0mFAC_NAME\u001b[0m\u001b[0;34m)\u001b[0m \u001b[0;34m&\u001b[0m \u001b[0;34m(\u001b[0m\u001b[0mdf_health\u001b[0m\u001b[0;34m[\u001b[0m\u001b[0;34m'Year'\u001b[0m\u001b[0;34m]\u001b[0m \u001b[0;34m==\u001b[0m \u001b[0mYear\u001b[0m\u001b[0;34m)\u001b[0m\u001b[0;34m]\u001b[0m\u001b[0;34m\u001b[0m\u001b[0;34m\u001b[0m\u001b[0m\n\u001b[1;32m     12\u001b[0m \u001b[0;34m\u001b[0m\u001b[0m\n\u001b[1;32m     13\u001b[0m             \u001b[0;32mif\u001b[0m \u001b[0;32mnot\u001b[0m \u001b[0mclosed_check\u001b[0m\u001b[0;34m.\u001b[0m\u001b[0mempty\u001b[0m \u001b[0;32mand\u001b[0m \u001b[0mclosed_check\u001b[0m\u001b[0;34m[\u001b[0m\u001b[0;34m'PGM_TRMNTN_CD'\u001b[0m\u001b[0;34m]\u001b[0m\u001b[0;34m.\u001b[0m\u001b[0mvalues\u001b[0m\u001b[0;34m[\u001b[0m\u001b[0;36m0\u001b[0m\u001b[0;34m]\u001b[0m \u001b[0;34m!=\u001b[0m \u001b[0;36m0\u001b[0m\u001b[0;34m:\u001b[0m\u001b[0;34m\u001b[0m\u001b[0;34m\u001b[0m\u001b[0m\n\u001b[0;32m---> 14\u001b[0;31m                 suspected_closures = suspected_closures.concat({\n\u001b[0m\u001b[1;32m     15\u001b[0m                     \u001b[0;34m'FAC_NAME'\u001b[0m\u001b[0;34m:\u001b[0m \u001b[0mfacility_name\u001b[0m\u001b[0;34m,\u001b[0m\u001b[0;34m\u001b[0m\u001b[0;34m\u001b[0m\u001b[0m\n\u001b[1;32m     16\u001b[0m                     \u001b[0;34m'ZIP_CD'\u001b[0m\u001b[0;34m:\u001b[0m \u001b[0mzip_code\u001b[0m\u001b[0;34m,\u001b[0m\u001b[0;34m\u001b[0m\u001b[0;34m\u001b[0m\u001b[0m\n\u001b[1;32m     17\u001b[0m                     \u001b[0;34m'Year'\u001b[0m\u001b[0;34m:\u001b[0m \u001b[0myear\u001b[0m\u001b[0;34m\u001b[0m\u001b[0;34m\u001b[0m\u001b[0m\n",
      "\u001b[0;32m~/Library/Python/3.9/lib/python/site-packages/pandas/core/generic.py\u001b[0m in \u001b[0;36m?\u001b[0;34m(self, name)\u001b[0m\n\u001b[1;32m   6295\u001b[0m             \u001b[0;32mand\u001b[0m \u001b[0mname\u001b[0m \u001b[0;32mnot\u001b[0m \u001b[0;32min\u001b[0m \u001b[0mself\u001b[0m\u001b[0;34m.\u001b[0m\u001b[0m_accessors\u001b[0m\u001b[0;34m\u001b[0m\u001b[0;34m\u001b[0m\u001b[0m\n\u001b[1;32m   6296\u001b[0m             \u001b[0;32mand\u001b[0m \u001b[0mself\u001b[0m\u001b[0;34m.\u001b[0m\u001b[0m_info_axis\u001b[0m\u001b[0;34m.\u001b[0m\u001b[0m_can_hold_identifiers_and_holds_name\u001b[0m\u001b[0;34m(\u001b[0m\u001b[0mname\u001b[0m\u001b[0;34m)\u001b[0m\u001b[0;34m\u001b[0m\u001b[0;34m\u001b[0m\u001b[0m\n\u001b[1;32m   6297\u001b[0m         ):\n\u001b[1;32m   6298\u001b[0m             \u001b[0;32mreturn\u001b[0m \u001b[0mself\u001b[0m\u001b[0;34m[\u001b[0m\u001b[0mname\u001b[0m\u001b[0;34m]\u001b[0m\u001b[0;34m\u001b[0m\u001b[0;34m\u001b[0m\u001b[0m\n\u001b[0;32m-> 6299\u001b[0;31m         \u001b[0;32mreturn\u001b[0m \u001b[0mobject\u001b[0m\u001b[0;34m.\u001b[0m\u001b[0m__getattribute__\u001b[0m\u001b[0;34m(\u001b[0m\u001b[0mself\u001b[0m\u001b[0;34m,\u001b[0m \u001b[0mname\u001b[0m\u001b[0;34m)\u001b[0m\u001b[0;34m\u001b[0m\u001b[0;34m\u001b[0m\u001b[0m\n\u001b[0m",
      "\u001b[0;31mAttributeError\u001b[0m: 'DataFrame' object has no attribute 'concat'"
     ]
    }
   ],
   "source": [
    "active_2016 = df_health[(df_health['PGM_TRMNTN_CD'] == 0) & (df_health['Year'] == 2016)]\n",
    "\n",
    "def find_suspected_closures(active_2016, df_health):\n",
    "    suspected_closures = pd.DataFrame(columns=['FAC_NAME', 'ZIP_CD', 'Year'])\n",
    "    \n",
    "    for index, row in active_2016.iterrows():\n",
    "        FAC_NAME = row['FAC_NAME']\n",
    "        ZIP_CD = row['ZIP_CD']\n",
    "\n",
    "        for Year in range(2017, 2020):\n",
    "            closed_check = df_health[(df_health['FAC_NAME'] == FAC_NAME) & (df_health['Year'] == Year)]\n",
    "            \n",
    "            if not closed_check.empty and closed_check['PGM_TRMNTN_CD'].values[0] != 0:\n",
    "                suspected_closures = suspected_closures.concat({\n",
    "                    'FAC_NAME': facility_name,\n",
    "                    'ZIP_CD': zip_code,\n",
    "                    'Year': year\n",
    "                }, ignore_index=True)\n",
    "    return suspected_closures\n",
    "\n",
    "suspected_closures = find_suspected_closures(active_2016, df_health)"
   ]
  },
  {
   "cell_type": "code",
   "execution_count": 23,
   "id": "63b39726-28a5-4e89-83d5-01f25cf1c4cf",
   "metadata": {
    "vscode": {
     "languageId": "quarto"
    }
   },
   "outputs": [],
   "source": [
    "import pandas as pd\n",
    "import numpy as np\n",
    "import altair as alt\n",
    "import os\n",
    "import json\n",
    "alt.renderers.enable(\"png\") \n",
    "import shapely\n",
    "import geopandas"
   ]
  },
  {
   "cell_type": "code",
   "execution_count": 24,
   "id": "4599fcf9-64fc-41ea-83b2-7f4f4c82f352",
   "metadata": {
    "vscode": {
     "languageId": "quarto"
    }
   },
   "outputs": [
    {
     "ename": "AttributeError",
     "evalue": "'DataFrame' object has no attribute 'concat'",
     "output_type": "error",
     "traceback": [
      "\u001b[0;31m---------------------------------------------------------------------------\u001b[0m",
      "\u001b[0;31mAttributeError\u001b[0m                            Traceback (most recent call last)",
      "\u001b[0;32m<ipython-input-24-e4a8c0460bbf>\u001b[0m in \u001b[0;36m?\u001b[0;34m()\u001b[0m\n\u001b[0;32m---> 21\u001b[0;31m \u001b[0mactive_2016\u001b[0m \u001b[0;34m=\u001b[0m \u001b[0mdf_health\u001b[0m\u001b[0;34m[\u001b[0m\u001b[0;34m(\u001b[0m\u001b[0mdf_health\u001b[0m\u001b[0;34m[\u001b[0m\u001b[0;34m'PGM_TRMNTN_CD'\u001b[0m\u001b[0;34m]\u001b[0m \u001b[0;34m==\u001b[0m \u001b[0;36m0\u001b[0m\u001b[0;34m)\u001b[0m \u001b[0;34m&\u001b[0m \u001b[0;34m(\u001b[0m\u001b[0mdf_health\u001b[0m\u001b[0;34m[\u001b[0m\u001b[0;34m'Year'\u001b[0m\u001b[0;34m]\u001b[0m \u001b[0;34m==\u001b[0m \u001b[0;36m2016\u001b[0m\u001b[0;34m)\u001b[0m\u001b[0;34m]\u001b[0m\u001b[0;34m\u001b[0m\u001b[0;34m\u001b[0m\u001b[0m\n\u001b[0m\u001b[1;32m     22\u001b[0m \u001b[0;34m\u001b[0m\u001b[0m\n\u001b[1;32m     23\u001b[0m \u001b[0;32mdef\u001b[0m \u001b[0mfind_suspected_closures\u001b[0m\u001b[0;34m(\u001b[0m\u001b[0mactive_2016\u001b[0m\u001b[0;34m,\u001b[0m \u001b[0mdf_health\u001b[0m\u001b[0;34m)\u001b[0m\u001b[0;34m:\u001b[0m\u001b[0;34m\u001b[0m\u001b[0;34m\u001b[0m\u001b[0m\n\u001b[1;32m     24\u001b[0m     \u001b[0msuspected_closures\u001b[0m \u001b[0;34m=\u001b[0m \u001b[0mpd\u001b[0m\u001b[0;34m.\u001b[0m\u001b[0mDataFrame\u001b[0m\u001b[0;34m(\u001b[0m\u001b[0mcolumns\u001b[0m\u001b[0;34m=\u001b[0m\u001b[0;34m[\u001b[0m\u001b[0;34m'FAC_NAME'\u001b[0m\u001b[0;34m,\u001b[0m \u001b[0;34m'ZIP_CD'\u001b[0m\u001b[0;34m,\u001b[0m \u001b[0;34m'Year'\u001b[0m\u001b[0;34m]\u001b[0m\u001b[0;34m)\u001b[0m\u001b[0;34m\u001b[0m\u001b[0;34m\u001b[0m\u001b[0m\n",
      "\u001b[0;32m<ipython-input-24-e4a8c0460bbf>\u001b[0m in \u001b[0;36m?\u001b[0;34m(active_2016, df_health)\u001b[0m\n\u001b[1;32m     10\u001b[0m         \u001b[0;32mfor\u001b[0m \u001b[0mYear\u001b[0m \u001b[0;32min\u001b[0m \u001b[0mrange\u001b[0m\u001b[0;34m(\u001b[0m\u001b[0;36m2017\u001b[0m\u001b[0;34m,\u001b[0m \u001b[0;36m2020\u001b[0m\u001b[0;34m)\u001b[0m\u001b[0;34m:\u001b[0m\u001b[0;34m\u001b[0m\u001b[0;34m\u001b[0m\u001b[0m\n\u001b[1;32m     11\u001b[0m             \u001b[0mclosed_check\u001b[0m \u001b[0;34m=\u001b[0m \u001b[0mdf_health\u001b[0m\u001b[0;34m[\u001b[0m\u001b[0;34m(\u001b[0m\u001b[0mdf_health\u001b[0m\u001b[0;34m[\u001b[0m\u001b[0;34m'FAC_NAME'\u001b[0m\u001b[0;34m]\u001b[0m \u001b[0;34m==\u001b[0m \u001b[0mFAC_NAME\u001b[0m\u001b[0;34m)\u001b[0m \u001b[0;34m&\u001b[0m \u001b[0;34m(\u001b[0m\u001b[0mdf_health\u001b[0m\u001b[0;34m[\u001b[0m\u001b[0;34m'Year'\u001b[0m\u001b[0;34m]\u001b[0m \u001b[0;34m==\u001b[0m \u001b[0mYear\u001b[0m\u001b[0;34m)\u001b[0m\u001b[0;34m]\u001b[0m\u001b[0;34m\u001b[0m\u001b[0;34m\u001b[0m\u001b[0m\n\u001b[1;32m     12\u001b[0m \u001b[0;34m\u001b[0m\u001b[0m\n\u001b[1;32m     13\u001b[0m             \u001b[0;32mif\u001b[0m \u001b[0;32mnot\u001b[0m \u001b[0mclosed_check\u001b[0m\u001b[0;34m.\u001b[0m\u001b[0mempty\u001b[0m \u001b[0;32mand\u001b[0m \u001b[0mclosed_check\u001b[0m\u001b[0;34m[\u001b[0m\u001b[0;34m'PGM_TRMNTN_CD'\u001b[0m\u001b[0;34m]\u001b[0m\u001b[0;34m.\u001b[0m\u001b[0mvalues\u001b[0m\u001b[0;34m[\u001b[0m\u001b[0;36m0\u001b[0m\u001b[0;34m]\u001b[0m \u001b[0;34m!=\u001b[0m \u001b[0;36m0\u001b[0m\u001b[0;34m:\u001b[0m\u001b[0;34m\u001b[0m\u001b[0;34m\u001b[0m\u001b[0m\n\u001b[0;32m---> 14\u001b[0;31m                 suspected_closures = suspected_closures.concat({\n\u001b[0m\u001b[1;32m     15\u001b[0m                     \u001b[0;34m'FAC_NAME'\u001b[0m\u001b[0;34m:\u001b[0m \u001b[0mfacility_name\u001b[0m\u001b[0;34m,\u001b[0m\u001b[0;34m\u001b[0m\u001b[0;34m\u001b[0m\u001b[0m\n\u001b[1;32m     16\u001b[0m                     \u001b[0;34m'ZIP_CD'\u001b[0m\u001b[0;34m:\u001b[0m \u001b[0mzip_code\u001b[0m\u001b[0;34m,\u001b[0m\u001b[0;34m\u001b[0m\u001b[0;34m\u001b[0m\u001b[0m\n\u001b[1;32m     17\u001b[0m                     \u001b[0;34m'Year'\u001b[0m\u001b[0;34m:\u001b[0m \u001b[0myear\u001b[0m\u001b[0;34m\u001b[0m\u001b[0;34m\u001b[0m\u001b[0m\n",
      "\u001b[0;32m~/Library/Python/3.9/lib/python/site-packages/pandas/core/generic.py\u001b[0m in \u001b[0;36m?\u001b[0;34m(self, name)\u001b[0m\n\u001b[1;32m   6295\u001b[0m             \u001b[0;32mand\u001b[0m \u001b[0mname\u001b[0m \u001b[0;32mnot\u001b[0m \u001b[0;32min\u001b[0m \u001b[0mself\u001b[0m\u001b[0;34m.\u001b[0m\u001b[0m_accessors\u001b[0m\u001b[0;34m\u001b[0m\u001b[0;34m\u001b[0m\u001b[0m\n\u001b[1;32m   6296\u001b[0m             \u001b[0;32mand\u001b[0m \u001b[0mself\u001b[0m\u001b[0;34m.\u001b[0m\u001b[0m_info_axis\u001b[0m\u001b[0;34m.\u001b[0m\u001b[0m_can_hold_identifiers_and_holds_name\u001b[0m\u001b[0;34m(\u001b[0m\u001b[0mname\u001b[0m\u001b[0;34m)\u001b[0m\u001b[0;34m\u001b[0m\u001b[0;34m\u001b[0m\u001b[0m\n\u001b[1;32m   6297\u001b[0m         ):\n\u001b[1;32m   6298\u001b[0m             \u001b[0;32mreturn\u001b[0m \u001b[0mself\u001b[0m\u001b[0;34m[\u001b[0m\u001b[0mname\u001b[0m\u001b[0;34m]\u001b[0m\u001b[0;34m\u001b[0m\u001b[0;34m\u001b[0m\u001b[0m\n\u001b[0;32m-> 6299\u001b[0;31m         \u001b[0;32mreturn\u001b[0m \u001b[0mobject\u001b[0m\u001b[0;34m.\u001b[0m\u001b[0m__getattribute__\u001b[0m\u001b[0;34m(\u001b[0m\u001b[0mself\u001b[0m\u001b[0;34m,\u001b[0m \u001b[0mname\u001b[0m\u001b[0;34m)\u001b[0m\u001b[0;34m\u001b[0m\u001b[0;34m\u001b[0m\u001b[0m\n\u001b[0m",
      "\u001b[0;31mAttributeError\u001b[0m: 'DataFrame' object has no attribute 'concat'"
     ]
    }
   ],
   "source": [
    "active_2016 = df_health[(df_health['PGM_TRMNTN_CD'] == 0) & (df_health['Year'] == 2016)]\n",
    "\n",
    "def find_suspected_closures(active_2016, df_health):\n",
    "    suspected_closures = pd.DataFrame(columns=['FAC_NAME', 'ZIP_CD', 'Year'])\n",
    "    \n",
    "    for index, row in active_2016.iterrows():\n",
    "        FAC_NAME = row['FAC_NAME']\n",
    "        ZIP_CD = row['ZIP_CD']\n",
    "\n",
    "        for Year in range(2017, 2020):\n",
    "            closed_check = df_health[(df_health['FAC_NAME'] == FAC_NAME) & (df_health['Year'] == Year)]\n",
    "            \n",
    "            if not closed_check.empty and closed_check['PGM_TRMNTN_CD'].values[0] != 0:\n",
    "                suspected_closures = suspected_closures.concat({\n",
    "                    'FAC_NAME': facility_name,\n",
    "                    'ZIP_CD': zip_code,\n",
    "                    'Year': year\n",
    "                }, ignore_index=True)\n",
    "    return suspected_closures\n",
    "\n",
    "suspected_closures = find_suspected_closures(active_2016, df_health)"
   ]
  },
  {
   "cell_type": "code",
   "execution_count": 25,
   "id": "ead1b4df-5af0-4c78-a68c-f862dd9a31aa",
   "metadata": {
    "vscode": {
     "languageId": "quarto"
    }
   },
   "outputs": [],
   "source": [
    "active_2016 = df_health[(df_health['PGM_TRMNTN_CD'] == 0) & (df_health['Year'] == 2016)]\n",
    "\n",
    "def find_suspected_closures(active_2016, df_health):\n",
    "    suspected_closures = pd.DataFrame(columns=['FAC_NAME', 'ZIP_CD', 'Year'])\n",
    "    \n",
    "    for index, row in active_2016.iterrows():\n",
    "        FAC_NAME = row['FAC_NAME']\n",
    "        ZIP_CD = row['ZIP_CD']\n",
    "\n",
    "        for Year in range(2017, 2020):\n",
    "            closed_check = df_health[(df_health['FAC_NAME'] == FAC_NAME) & (df_health['Year'] == Year)]\n",
    "            \n",
    "            if not closed_check.empty and closed_check['PGM_TRMNTN_CD'].values[0] != 0:\n",
    "                # Create a new DataFrame for the current entry\n",
    "                new_entry = pd.DataFrame({\n",
    "                    'FAC_NAME': [FAC_NAME],\n",
    "                    'ZIP_CD': [ZIP_CD],\n",
    "                    'Year': [Year]\n",
    "                })\n",
    "                # Concatenate the new entry to the suspected closures DataFrame\n",
    "                suspected_closures = pd.concat([suspected_closures, new_entry], ignore_index=True)\n",
    "\n",
    "    return suspected_closures"
   ]
  },
  {
   "cell_type": "code",
   "execution_count": 26,
   "id": "1d4fe1a1-ea11-46c2-ae66-88d4354cc760",
   "metadata": {
    "vscode": {
     "languageId": "quarto"
    }
   },
   "outputs": [
    {
     "ename": "NameError",
     "evalue": "name 'suspected_closures' is not defined",
     "output_type": "error",
     "traceback": [
      "\u001b[0;31m---------------------------------------------------------------------------\u001b[0m",
      "\u001b[0;31mNameError\u001b[0m                                 Traceback (most recent call last)",
      "File \u001b[1;32m/Users/justinesilverstein/Desktop/problem-set-4-andrew-justine/pset4_template.qmd:20\u001b[0m\n\u001b[1;32m     18\u001b[0m                 suspected_closures \u001b[39m=\u001b[39m pd\u001b[39m.\u001b[39mconcat([suspected_closures, new_entry], ignore_index\u001b[39m=\u001b[39m\u001b[39mTrue\u001b[39;00m)\n\u001b[1;32m     19\u001b[0m     \u001b[39mreturn\u001b[39;00m suspected_closures\n\u001b[0;32m---> 20\u001b[0m \u001b[39mprint\u001b[39m(suspected_closures\u001b[39m.\u001b[39mhead(\u001b[39m10\u001b[39m))\n",
      "\u001b[0;31mNameError\u001b[0m: name 'suspected_closures' is not defined"
     ]
    }
   ],
   "source": [
    "active_2016 = df_health[(df_health['PGM_TRMNTN_CD'] == 0) & (df_health['Year'] == 2016)]\n",
    "\n",
    "def find_suspected_closures(active_2016, df_health):\n",
    "    suspected_closures = pd.DataFrame(columns=['FAC_NAME', 'ZIP_CD', 'Year'])\n",
    "    \n",
    "    for index, row in active_2016.iterrows():\n",
    "        FAC_NAME = row['FAC_NAME']\n",
    "        ZIP_CD = row['ZIP_CD']\n",
    "\n",
    "        for Year in range(2017, 2020):\n",
    "            closed_check = df_health[(df_health['FAC_NAME'] == FAC_NAME) & (df_health['Year'] == Year)]           \n",
    "            if not closed_check.empty and closed_check['PGM_TRMNTN_CD'].values[0] != 0:\n",
    "                new_entry = pd.DataFrame({\n",
    "                    'FAC_NAME': [FAC_NAME],\n",
    "                    'ZIP_CD': [ZIP_CD],\n",
    "                    'Year': [Year]\n",
    "                })\n",
    "                suspected_closures = pd.concat([suspected_closures, new_entry], ignore_index=True)\n",
    "    return suspected_closures\n",
    "print(suspected_closures.head(10))"
   ]
  },
  {
   "cell_type": "code",
   "execution_count": 27,
   "id": "50e82eab-2d39-480a-9c19-ae13f9c50ae4",
   "metadata": {
    "vscode": {
     "languageId": "quarto"
    }
   },
   "outputs": [
    {
     "ename": "NameError",
     "evalue": "name 'suspected_closures' is not defined",
     "output_type": "error",
     "traceback": [
      "\u001b[0;31m---------------------------------------------------------------------------\u001b[0m",
      "\u001b[0;31mNameError\u001b[0m                                 Traceback (most recent call last)",
      "File \u001b[1;32m/Users/justinesilverstein/Desktop/problem-set-4-andrew-justine/pset4_template.qmd:20\u001b[0m\n\u001b[1;32m     18\u001b[0m                 suspected_closures \u001b[39m=\u001b[39m pd\u001b[39m.\u001b[39mconcat([suspected_closures, new_entry], ignore_index\u001b[39m=\u001b[39m\u001b[39mTrue\u001b[39;00m)\n\u001b[1;32m     19\u001b[0m     \u001b[39mreturn\u001b[39;00m suspected_closures\n\u001b[0;32m---> 20\u001b[0m \u001b[39mprint\u001b[39m(suspected_closures)\n",
      "\u001b[0;31mNameError\u001b[0m: name 'suspected_closures' is not defined"
     ]
    }
   ],
   "source": [
    "active_2016 = df_health[(df_health['PGM_TRMNTN_CD'] == 0) & (df_health['Year'] == 2016)]\n",
    "\n",
    "def find_suspected_closures(active_2016, df_health):\n",
    "    suspected_closures = pd.DataFrame(columns=['FAC_NAME', 'ZIP_CD', 'Year'])\n",
    "    \n",
    "    for index, row in active_2016.iterrows():\n",
    "        FAC_NAME = row['FAC_NAME']\n",
    "        ZIP_CD = row['ZIP_CD']\n",
    "\n",
    "        for Year in range(2017, 2020):\n",
    "            closed_check = df_health[(df_health['FAC_NAME'] == FAC_NAME) & (df_health['Year'] == Year)]           \n",
    "            if not closed_check.empty and closed_check['PGM_TRMNTN_CD'].values[0] != 0:\n",
    "                new_entry = pd.DataFrame({\n",
    "                    'FAC_NAME': [FAC_NAME],\n",
    "                    'ZIP_CD': [ZIP_CD],\n",
    "                    'Year': [Year]\n",
    "                })\n",
    "                suspected_closures = pd.concat([suspected_closures, new_entry], ignore_index=True)\n",
    "    return suspected_closures\n",
    "print(suspected_closures)"
   ]
  },
  {
   "cell_type": "code",
   "execution_count": 28,
   "id": "c2314eb6-fc1f-4410-b3bf-7613c666edcc",
   "metadata": {
    "vscode": {
     "languageId": "quarto"
    }
   },
   "outputs": [
    {
     "name": "stderr",
     "output_type": "stream",
     "text": [
      "<ipython-input-28-2b950c23145a>:18: FutureWarning: The behavior of DataFrame concatenation with empty or all-NA entries is deprecated. In a future version, this will no longer exclude empty or all-NA columns when determining the result dtypes. To retain the old behavior, exclude the relevant entries before the concat operation.\n",
      "  suspected_closures = pd.concat([suspected_closures, new_entry], ignore_index=True)\n"
     ]
    },
    {
     "name": "stdout",
     "output_type": "stream",
     "text": [
      "                                           FAC_NAME   ZIP_CD  Year\n",
      "0                          GEORGIANA MEDICAL CENTER  36033.0  2019\n",
      "1                                  RMC JACKSONVILLE  36265.0  2018\n",
      "2                                  RMC JACKSONVILLE  36265.0  2019\n",
      "3                                     UAB HIGHLANDS  35205.0  2017\n",
      "4                                     UAB HIGHLANDS  35205.0  2018\n",
      "..                                              ...      ...   ...\n",
      "582                 BAYLOR EMERGENCY MEDICAL CENTER  76028.0  2019\n",
      "583  CONTINUECARE HOSPITAL AT MEDICAL CENTER ODESSA  79761.0  2017\n",
      "584  CONTINUECARE HOSPITAL AT MEDICAL CENTER ODESSA  79761.0  2018\n",
      "585  CONTINUECARE HOSPITAL AT MEDICAL CENTER ODESSA  79761.0  2019\n",
      "586                TEXAS GENERAL HOSPITAL- VZRMC LP  75140.0  2019\n",
      "\n",
      "[587 rows x 3 columns]\n"
     ]
    }
   ],
   "source": [
    "active_2016 = df_health[(df_health['PGM_TRMNTN_CD'] == 0) & (df_health['Year'] == 2016)]\n",
    "\n",
    "def find_suspected_closures(active_2016, df_health):\n",
    "    suspected_closures = pd.DataFrame(columns=['FAC_NAME', 'ZIP_CD', 'Year'])\n",
    "    \n",
    "    for index, row in active_2016.iterrows():\n",
    "        FAC_NAME = row['FAC_NAME']\n",
    "        ZIP_CD = row['ZIP_CD']\n",
    "\n",
    "        for Year in range(2017, 2020):\n",
    "            closed_check = df_health[(df_health['FAC_NAME'] == FAC_NAME) & (df_health['Year'] == Year)]           \n",
    "            if not closed_check.empty and closed_check['PGM_TRMNTN_CD'].values[0] != 0:\n",
    "                new_entry = pd.DataFrame({\n",
    "                    'FAC_NAME': [FAC_NAME],\n",
    "                    'ZIP_CD': [ZIP_CD],\n",
    "                    'Year': [Year]\n",
    "                })\n",
    "                suspected_closures = pd.concat([suspected_closures, new_entry], ignore_index=True)\n",
    "    return suspected_closures\n",
    "\n",
    "suspected_closures = find_suspected_closures(active_2016, df_health)\n",
    "\n",
    "print(suspected_closures)"
   ]
  },
  {
   "cell_type": "code",
   "execution_count": 29,
   "id": "07bcfe50-84ab-46c2-8b49-cfad6c25048a",
   "metadata": {
    "vscode": {
     "languageId": "quarto"
    }
   },
   "outputs": [
    {
     "name": "stderr",
     "output_type": "stream",
     "text": [
      "<ipython-input-29-7ae448dc1214>:18: FutureWarning: The behavior of DataFrame concatenation with empty or all-NA entries is deprecated. In a future version, this will no longer exclude empty or all-NA columns when determining the result dtypes. To retain the old behavior, exclude the relevant entries before the concat operation.\n",
      "  suspected_closures = pd.concat([suspected_closures, new_entry], ignore_index=True)\n"
     ]
    },
    {
     "name": "stdout",
     "output_type": "stream",
     "text": [
      "                            FAC_NAME   ZIP_CD  Year\n",
      "0           GEORGIANA MEDICAL CENTER  36033.0  2019\n",
      "1                   RMC JACKSONVILLE  36265.0  2018\n",
      "2                   RMC JACKSONVILLE  36265.0  2019\n",
      "3                      UAB HIGHLANDS  35205.0  2017\n",
      "4                      UAB HIGHLANDS  35205.0  2018\n",
      "5                      UAB HIGHLANDS  35205.0  2019\n",
      "6          ATMORE COMMUNITY HOSPITAL  36502.0  2017\n",
      "7          ATMORE COMMUNITY HOSPITAL  36502.0  2018\n",
      "8          ATMORE COMMUNITY HOSPITAL  36502.0  2019\n",
      "9  NORTH ALABAMA SPECIALITY HOSPITAL  35611.0  2018\n"
     ]
    }
   ],
   "source": [
    "active_2016 = df_health[(df_health['PGM_TRMNTN_CD'] == 0) & (df_health['Year'] == 2016)]\n",
    "\n",
    "def find_suspected_closures(active_2016, df_health):\n",
    "    suspected_closures = pd.DataFrame(columns=['FAC_NAME', 'ZIP_CD', 'Year'])\n",
    "    \n",
    "    for index, row in active_2016.iterrows():\n",
    "        FAC_NAME = row['FAC_NAME']\n",
    "        ZIP_CD = row['ZIP_CD']\n",
    "\n",
    "        for Year in range(2017, 2020):\n",
    "            closed_check = df_health[(df_health['FAC_NAME'] == FAC_NAME) & (df_health['Year'] == Year)]           \n",
    "            if not closed_check.empty and closed_check['PGM_TRMNTN_CD'].values[0] != 0:\n",
    "                new_entry = pd.DataFrame({\n",
    "                    'FAC_NAME': [FAC_NAME],\n",
    "                    'ZIP_CD': [ZIP_CD],\n",
    "                    'Year': [Year]\n",
    "                })\n",
    "                suspected_closures = pd.concat([suspected_closures, new_entry], ignore_index=True)\n",
    "    return suspected_closures\n",
    "\n",
    "suspected_closures = find_suspected_closures(active_2016, df_health)\n",
    "\n",
    "print(suspected_closures.head(10))"
   ]
  },
  {
   "cell_type": "code",
   "execution_count": 30,
   "id": "8972db7a-62bd-4bff-be3b-22c94c2d5509",
   "metadata": {
    "vscode": {
     "languageId": "quarto"
    }
   },
   "outputs": [
    {
     "name": "stderr",
     "output_type": "stream",
     "text": [
      "<ipython-input-30-4156fa768493>:18: FutureWarning: The behavior of DataFrame concatenation with empty or all-NA entries is deprecated. In a future version, this will no longer exclude empty or all-NA columns when determining the result dtypes. To retain the old behavior, exclude the relevant entries before the concat operation.\n",
      "  suspected_closures = pd.concat([suspected_closures, new_entry], ignore_index=True)\n"
     ]
    },
    {
     "name": "stdout",
     "output_type": "stream",
     "text": [
      "                                          FAC_NAME   ZIP_CD  Year\n",
      "13                          ABRAZO MARYVALE CAMPUS  85031.0  2019\n",
      "11                          ABRAZO MARYVALE CAMPUS  85031.0  2017\n",
      "12                          ABRAZO MARYVALE CAMPUS  85031.0  2018\n",
      "24       ADVENTIST MEDICAL CENTER - CENTRAL VALLEY  93230.0  2019\n",
      "23       ADVENTIST MEDICAL CENTER - CENTRAL VALLEY  93230.0  2018\n",
      "22       ADVENTIST MEDICAL CENTER - CENTRAL VALLEY  93230.0  2017\n",
      "325                        AFFINITY MEDICAL CENTER  44646.0  2018\n",
      "326                        AFFINITY MEDICAL CENTER  44646.0  2019\n",
      "286  ALBANY MEDICAL CENTER / SOUTH CLINICAL CAMPUS  12208.0  2018\n",
      "287  ALBANY MEDICAL CENTER / SOUTH CLINICAL CAMPUS  12208.0  2019\n"
     ]
    }
   ],
   "source": [
    "active_2016 = df_health[(df_health['PGM_TRMNTN_CD'] == 0) & (df_health['Year'] == 2016)]\n",
    "\n",
    "def find_suspected_closures(active_2016, df_health):\n",
    "    suspected_closures = pd.DataFrame(columns=['FAC_NAME', 'ZIP_CD', 'Year'])\n",
    "    \n",
    "    for index, row in active_2016.iterrows():\n",
    "        FAC_NAME = row['FAC_NAME']\n",
    "        ZIP_CD = row['ZIP_CD']\n",
    "\n",
    "        for Year in range(2017, 2020):\n",
    "            closed_check = df_health[(df_health['FAC_NAME'] == FAC_NAME) & (df_health['Year'] == Year)]           \n",
    "            if not closed_check.empty and closed_check['PGM_TRMNTN_CD'].values[0] != 0:\n",
    "                new_entry = pd.DataFrame({\n",
    "                    'FAC_NAME': [FAC_NAME],\n",
    "                    'ZIP_CD': [ZIP_CD],\n",
    "                    'Year': [Year]\n",
    "                })\n",
    "                suspected_closures = pd.concat([suspected_closures, new_entry], ignore_index=True)\n",
    "    return suspected_closures\n",
    "\n",
    "suspected_closures = find_suspected_closures(active_2016, df_health)\n",
    "\n",
    "print(suspected_closures.sort_values(by='FAC_NAME').head(10))"
   ]
  },
  {
   "cell_type": "code",
   "execution_count": 32,
   "id": "1bf55ef4-0cee-4be9-b91d-779a2dd599b5",
   "metadata": {
    "vscode": {
     "languageId": "quarto"
    }
   },
   "outputs": [
    {
     "name": "stderr",
     "output_type": "stream",
     "text": [
      "<ipython-input-32-57f6049c09cd>:18: FutureWarning: The behavior of DataFrame concatenation with empty or all-NA entries is deprecated. In a future version, this will no longer exclude empty or all-NA columns when determining the result dtypes. To retain the old behavior, exclude the relevant entries before the concat operation.\n",
      "  suspected_closures = pd.concat([suspected_closures, new_entry], ignore_index=True)\n"
     ]
    },
    {
     "name": "stdout",
     "output_type": "stream",
     "text": [
      "587\n"
     ]
    }
   ],
   "source": [
    "active_2016 = df_health[(df_health['PGM_TRMNTN_CD'] == 0) & (df_health['Year'] == 2016)]\n",
    "\n",
    "def find_suspected_closures(active_2016, df_health):\n",
    "    suspected_closures = pd.DataFrame(columns=['FAC_NAME', 'ZIP_CD', 'Year'])\n",
    "    \n",
    "    for index, row in active_2016.iterrows():\n",
    "        FAC_NAME = row['FAC_NAME']\n",
    "        ZIP_CD = row['ZIP_CD']\n",
    "\n",
    "        for Year in range(2017, 2020):\n",
    "            closed_check = df_health[(df_health['FAC_NAME'] == FAC_NAME) & (df_health['Year'] == Year)]           \n",
    "            if not closed_check.empty and closed_check['PGM_TRMNTN_CD'].values[0] != 0:\n",
    "                new_entry = pd.DataFrame({\n",
    "                    'FAC_NAME': [FAC_NAME],\n",
    "                    'ZIP_CD': [ZIP_CD],\n",
    "                    'Year': [Year]\n",
    "                })\n",
    "                suspected_closures = pd.concat([suspected_closures, new_entry], ignore_index=True)\n",
    "    return suspected_closures\n",
    "\n",
    "suspected_closures = find_suspected_closures(active_2016, df_health)\n",
    "\n",
    "print(len(suspected_closures))"
   ]
  },
  {
   "cell_type": "code",
   "execution_count": 33,
   "id": "26bc8f25-897d-4990-a8d3-cb00a6dc4388",
   "metadata": {
    "vscode": {
     "languageId": "quarto"
    }
   },
   "outputs": [
    {
     "name": "stderr",
     "output_type": "stream",
     "text": [
      "<ipython-input-33-44a81f206cf7>:18: FutureWarning: The behavior of DataFrame concatenation with empty or all-NA entries is deprecated. In a future version, this will no longer exclude empty or all-NA columns when determining the result dtypes. To retain the old behavior, exclude the relevant entries before the concat operation.\n",
      "  suspected_closures = pd.concat([suspected_closures, new_entry], ignore_index=True)\n"
     ]
    },
    {
     "name": "stdout",
     "output_type": "stream",
     "text": [
      "587\n",
      "29085\n"
     ]
    }
   ],
   "source": [
    "active_2016 = df_health[(df_health['PGM_TRMNTN_CD'] == 0) & (df_health['Year'] == 2016)]\n",
    "\n",
    "def find_suspected_closures(active_2016, df_health):\n",
    "    suspected_closures = pd.DataFrame(columns=['FAC_NAME', 'ZIP_CD', 'Year'])\n",
    "    \n",
    "    for index, row in active_2016.iterrows():\n",
    "        FAC_NAME = row['FAC_NAME']\n",
    "        ZIP_CD = row['ZIP_CD']\n",
    "\n",
    "        for Year in range(2017, 2020):\n",
    "            closed_check = df_health[(df_health['FAC_NAME'] == FAC_NAME) & (df_health['Year'] == Year)]           \n",
    "            if not closed_check.empty and closed_check['PGM_TRMNTN_CD'].values[0] != 0:\n",
    "                new_entry = pd.DataFrame({\n",
    "                    'FAC_NAME': [FAC_NAME],\n",
    "                    'ZIP_CD': [ZIP_CD],\n",
    "                    'Year': [Year]\n",
    "                })\n",
    "                suspected_closures = pd.concat([suspected_closures, new_entry], ignore_index=True)\n",
    "    return suspected_closures\n",
    "\n",
    "suspected_closures = find_suspected_closures(active_2016, df_health)\n",
    "\n",
    "print(len(suspected_closures))\n",
    "print(len(df_health))"
   ]
  },
  {
   "cell_type": "code",
   "execution_count": 34,
   "id": "bdbe7c84-fd24-407c-89ea-d676a0b366a6",
   "metadata": {
    "vscode": {
     "languageId": "quarto"
    }
   },
   "outputs": [
    {
     "name": "stdout",
     "output_type": "stream",
     "text": [
      "                                          FAC_NAME   ZIP_CD  Year\n",
      "13                          ABRAZO MARYVALE CAMPUS  85031.0  2019\n",
      "11                          ABRAZO MARYVALE CAMPUS  85031.0  2017\n",
      "12                          ABRAZO MARYVALE CAMPUS  85031.0  2018\n",
      "24       ADVENTIST MEDICAL CENTER - CENTRAL VALLEY  93230.0  2019\n",
      "23       ADVENTIST MEDICAL CENTER - CENTRAL VALLEY  93230.0  2018\n",
      "22       ADVENTIST MEDICAL CENTER - CENTRAL VALLEY  93230.0  2017\n",
      "325                        AFFINITY MEDICAL CENTER  44646.0  2018\n",
      "326                        AFFINITY MEDICAL CENTER  44646.0  2019\n",
      "286  ALBANY MEDICAL CENTER / SOUTH CLINICAL CAMPUS  12208.0  2018\n",
      "287  ALBANY MEDICAL CENTER / SOUTH CLINICAL CAMPUS  12208.0  2019\n"
     ]
    }
   ],
   "source": [
    "print(suspected_closures.sort_values(by='FAC_NAME').head(10))"
   ]
  },
  {
   "cell_type": "code",
   "execution_count": 35,
   "id": "280f4a60-c668-426d-b030-0cd403b3b4c4",
   "metadata": {
    "vscode": {
     "languageId": "quarto"
    }
   },
   "outputs": [
    {
     "ename": "KeyError",
     "evalue": "\"['YEAR'] not in index\"",
     "output_type": "error",
     "traceback": [
      "\u001b[0;31m---------------------------------------------------------------------------\u001b[0m",
      "\u001b[0;31mKeyError\u001b[0m                                  Traceback (most recent call last)",
      "File \u001b[1;32m/Users/justinesilverstein/Desktop/problem-set-4-andrew-justine/pset4_template.qmd:1\u001b[0m\n\u001b[0;32m----> 1\u001b[0m \u001b[39mprint\u001b[39m(suspected_closures[[\u001b[39m'\u001b[39;49m\u001b[39mFAC_NAME\u001b[39;49m\u001b[39m'\u001b[39;49m, \u001b[39m'\u001b[39;49m\u001b[39mYEAR\u001b[39;49m\u001b[39m'\u001b[39;49m]]\u001b[39m.\u001b[39msort_values(by\u001b[39m=\u001b[39m\u001b[39m'\u001b[39m\u001b[39mFAC_NAME\u001b[39m\u001b[39m'\u001b[39m)\u001b[39m.\u001b[39mhead(\u001b[39m10\u001b[39m))\n",
      "File \u001b[0;32m~/Library/Python/3.9/lib/python/site-packages/pandas/core/frame.py:4108\u001b[0m, in \u001b[0;36mDataFrame.__getitem__\u001b[0;34m(self, key)\u001b[0m\n\u001b[1;32m   4106\u001b[0m     \u001b[39mif\u001b[39;00m is_iterator(key):\n\u001b[1;32m   4107\u001b[0m         key \u001b[39m=\u001b[39m \u001b[39mlist\u001b[39m(key)\n\u001b[0;32m-> 4108\u001b[0m     indexer \u001b[39m=\u001b[39m \u001b[39mself\u001b[39;49m\u001b[39m.\u001b[39;49mcolumns\u001b[39m.\u001b[39;49m_get_indexer_strict(key, \u001b[39m\"\u001b[39;49m\u001b[39mcolumns\u001b[39;49m\u001b[39m\"\u001b[39;49m)[\u001b[39m1\u001b[39m]\n\u001b[1;32m   4110\u001b[0m \u001b[39m# take() does not accept boolean indexers\u001b[39;00m\n\u001b[1;32m   4111\u001b[0m \u001b[39mif\u001b[39;00m \u001b[39mgetattr\u001b[39m(indexer, \u001b[39m\"\u001b[39m\u001b[39mdtype\u001b[39m\u001b[39m\"\u001b[39m, \u001b[39mNone\u001b[39;00m) \u001b[39m==\u001b[39m \u001b[39mbool\u001b[39m:\n",
      "File \u001b[0;32m~/Library/Python/3.9/lib/python/site-packages/pandas/core/indexes/base.py:6200\u001b[0m, in \u001b[0;36mIndex._get_indexer_strict\u001b[0;34m(self, key, axis_name)\u001b[0m\n\u001b[1;32m   6197\u001b[0m \u001b[39melse\u001b[39;00m:\n\u001b[1;32m   6198\u001b[0m     keyarr, indexer, new_indexer \u001b[39m=\u001b[39m \u001b[39mself\u001b[39m\u001b[39m.\u001b[39m_reindex_non_unique(keyarr)\n\u001b[0;32m-> 6200\u001b[0m \u001b[39mself\u001b[39;49m\u001b[39m.\u001b[39;49m_raise_if_missing(keyarr, indexer, axis_name)\n\u001b[1;32m   6202\u001b[0m keyarr \u001b[39m=\u001b[39m \u001b[39mself\u001b[39m\u001b[39m.\u001b[39mtake(indexer)\n\u001b[1;32m   6203\u001b[0m \u001b[39mif\u001b[39;00m \u001b[39misinstance\u001b[39m(key, Index):\n\u001b[1;32m   6204\u001b[0m     \u001b[39m# GH 42790 - Preserve name from an Index\u001b[39;00m\n",
      "File \u001b[0;32m~/Library/Python/3.9/lib/python/site-packages/pandas/core/indexes/base.py:6252\u001b[0m, in \u001b[0;36mIndex._raise_if_missing\u001b[0;34m(self, key, indexer, axis_name)\u001b[0m\n\u001b[1;32m   6249\u001b[0m     \u001b[39mraise\u001b[39;00m \u001b[39mKeyError\u001b[39;00m(\u001b[39mf\u001b[39m\u001b[39m\"\u001b[39m\u001b[39mNone of [\u001b[39m\u001b[39m{\u001b[39;00mkey\u001b[39m}\u001b[39;00m\u001b[39m] are in the [\u001b[39m\u001b[39m{\u001b[39;00maxis_name\u001b[39m}\u001b[39;00m\u001b[39m]\u001b[39m\u001b[39m\"\u001b[39m)\n\u001b[1;32m   6251\u001b[0m not_found \u001b[39m=\u001b[39m \u001b[39mlist\u001b[39m(ensure_index(key)[missing_mask\u001b[39m.\u001b[39mnonzero()[\u001b[39m0\u001b[39m]]\u001b[39m.\u001b[39munique())\n\u001b[0;32m-> 6252\u001b[0m \u001b[39mraise\u001b[39;00m \u001b[39mKeyError\u001b[39;00m(\u001b[39mf\u001b[39m\u001b[39m\"\u001b[39m\u001b[39m{\u001b[39;00mnot_found\u001b[39m}\u001b[39;00m\u001b[39m not in index\u001b[39m\u001b[39m\"\u001b[39m)\n",
      "\u001b[0;31mKeyError\u001b[0m: \"['YEAR'] not in index\""
     ]
    }
   ],
   "source": [
    "print(suspected_closures[['FAC_NAME', 'YEAR']].sort_values(by='FAC_NAME').head(10))"
   ]
  },
  {
   "cell_type": "code",
   "execution_count": 36,
   "id": "09e95e88-4d09-498d-b775-5a6b3c1020b2",
   "metadata": {
    "vscode": {
     "languageId": "quarto"
    }
   },
   "outputs": [
    {
     "name": "stdout",
     "output_type": "stream",
     "text": [
      "                                          FAC_NAME  Year\n",
      "13                          ABRAZO MARYVALE CAMPUS  2019\n",
      "11                          ABRAZO MARYVALE CAMPUS  2017\n",
      "12                          ABRAZO MARYVALE CAMPUS  2018\n",
      "24       ADVENTIST MEDICAL CENTER - CENTRAL VALLEY  2019\n",
      "23       ADVENTIST MEDICAL CENTER - CENTRAL VALLEY  2018\n",
      "22       ADVENTIST MEDICAL CENTER - CENTRAL VALLEY  2017\n",
      "325                        AFFINITY MEDICAL CENTER  2018\n",
      "326                        AFFINITY MEDICAL CENTER  2019\n",
      "286  ALBANY MEDICAL CENTER / SOUTH CLINICAL CAMPUS  2018\n",
      "287  ALBANY MEDICAL CENTER / SOUTH CLINICAL CAMPUS  2019\n"
     ]
    }
   ],
   "source": [
    "print(suspected_closures[['FAC_NAME', 'Year']].sort_values(by='FAC_NAME').head(10))"
   ]
  },
  {
   "cell_type": "code",
   "execution_count": 37,
   "id": "da55fc91-325e-463a-8160-624b971f10b3",
   "metadata": {
    "vscode": {
     "languageId": "quarto"
    }
   },
   "outputs": [],
   "source": [
    "def filtered_closures(active_2016, suspected_closures):\n",
    "    suspected_closures = pd.DataFrame(columns=['FAC_NAME', 'ZIP_CD', 'Year'])\n",
    "    \n",
    "    active_hospitals = suspected_closures[suspected_closures['Year'].isin([2017, 2018])]\n",
    "    counts = active_hospitals_counts.groupby(['ZIP_CD', 'Year']).size().unstack(fill_value=0)\n",
    "\n",
    "    kept_zip_codes = counts[\n",
    "    (counts[2018] >= counts[2017]) & \n",
    "    (counts[2019] >= counts[2018]) & \n",
    "    (counts[2017] >= counts[2016])].index.tolist()\n",
    "\n",
    "    for index, row in active_2016.iterrows():\n",
    "        FAC_NAME = row['FAC_NAME']\n",
    "        ZIP_CD = row['ZIP_CD']\n",
    "\n",
    "        for Year in range(2017, 2020):\n",
    "            closed_check = suspected_closures[(suspected_closures['FAC_NAME'] == FAC_NAME) & (suspected_closures['Year'] == Year)]\n",
    "            \n",
    "            if not closed_check.empty and closed_check['PGM_TRMNTN_CD'].values[0] != 0:\n",
    "                if ZIP_CD in kept_zip_codes:\n",
    "                    new_entry = pd.DataFrame({\n",
    "                        'FAC_NAME': [FAC_NAME],\n",
    "                        'ZIP_CD': [ZIP_CD],\n",
    "                        'Year': [Year]\n",
    "                    })\n",
    "                    suspected_closures = pd.concat([suspected_closures, new_entry], ignore_index=True)\n",
    "                    \n",
    "    return suspected_closures"
   ]
  },
  {
   "cell_type": "code",
   "execution_count": 38,
   "id": "0ebc0ff0-ef04-41af-836e-d7118c9b36ce",
   "metadata": {
    "vscode": {
     "languageId": "quarto"
    }
   },
   "outputs": [
    {
     "name": "stderr",
     "output_type": "stream",
     "text": [
      "<ipython-input-38-57f6049c09cd>:18: FutureWarning: The behavior of DataFrame concatenation with empty or all-NA entries is deprecated. In a future version, this will no longer exclude empty or all-NA columns when determining the result dtypes. To retain the old behavior, exclude the relevant entries before the concat operation.\n",
      "  suspected_closures = pd.concat([suspected_closures, new_entry], ignore_index=True)\n"
     ]
    },
    {
     "name": "stdout",
     "output_type": "stream",
     "text": [
      "587\n"
     ]
    }
   ],
   "source": [
    "active_2016 = df_health[(df_health['PGM_TRMNTN_CD'] == 0) & (df_health['Year'] == 2016)]\n",
    "\n",
    "def find_suspected_closures(active_2016, df_health):\n",
    "    suspected_closures = pd.DataFrame(columns=['FAC_NAME', 'ZIP_CD', 'Year'])\n",
    "    \n",
    "    for index, row in active_2016.iterrows():\n",
    "        FAC_NAME = row['FAC_NAME']\n",
    "        ZIP_CD = row['ZIP_CD']\n",
    "\n",
    "        for Year in range(2017, 2020):\n",
    "            closed_check = df_health[(df_health['FAC_NAME'] == FAC_NAME) & (df_health['Year'] == Year)]           \n",
    "            if not closed_check.empty and closed_check['PGM_TRMNTN_CD'].values[0] != 0:\n",
    "                new_entry = pd.DataFrame({\n",
    "                    'FAC_NAME': [FAC_NAME],\n",
    "                    'ZIP_CD': [ZIP_CD],\n",
    "                    'Year': [Year]\n",
    "                })\n",
    "                suspected_closures = pd.concat([suspected_closures, new_entry], ignore_index=True)\n",
    "    return suspected_closures\n",
    "\n",
    "suspected_closures = find_suspected_closures(active_2016, df_health)\n",
    "\n",
    "print(len(suspected_closures))"
   ]
  },
  {
   "cell_type": "code",
   "execution_count": 39,
   "id": "8aa99958-da8d-4132-a7ce-f4b27704c1b5",
   "metadata": {
    "vscode": {
     "languageId": "quarto"
    }
   },
   "outputs": [],
   "source": [
    "def find_filtered_closures(active_2016, suspected_closures):\n",
    "    filtered_closures = pd.DataFrame(columns=['FAC_NAME', 'ZIP_CD', 'Year'])\n",
    "    \n",
    "    active_hospitals = suspected_closures[suspected_closures['Year'].isin([2017, 2018])]\n",
    "    counts = active_hospitals_counts.groupby(['ZIP_CD', 'Year']).size().unstack(fill_value=0)\n",
    "\n",
    "    kept_zip_codes = counts[\n",
    "    (counts[2018] >= counts[2017]) & \n",
    "    (counts[2019] >= counts[2018]) & \n",
    "    (counts[2017] >= counts[2016])].index.tolist()\n",
    "\n",
    "    for index, row in active_2016.iterrows():\n",
    "        FAC_NAME = row['FAC_NAME']\n",
    "        ZIP_CD = row['ZIP_CD']\n",
    "\n",
    "        for Year in range(2017, 2020):\n",
    "            closed_check = suspected_closures[(suspected_closures['FAC_NAME'] == FAC_NAME) & (suspected_closures['Year'] == Year)]\n",
    "            \n",
    "            if not closed_check.empty and closed_check['PGM_TRMNTN_CD'].values[0] != 0:\n",
    "                if ZIP_CD in kept_zip_codes:\n",
    "                    new_entry = pd.DataFrame({\n",
    "                        'FAC_NAME': [FAC_NAME],\n",
    "                        'ZIP_CD': [ZIP_CD],\n",
    "                        'Year': [Year]\n",
    "                    })\n",
    "                    suspected_closures = pd.concat([suspected_closures, new_entry], ignore_index=True)\n",
    "                    \n",
    "    return filtered_closures"
   ]
  },
  {
   "cell_type": "code",
   "execution_count": 40,
   "id": "08ee082f-88a8-428d-9424-aea70d0158b9",
   "metadata": {
    "vscode": {
     "languageId": "quarto"
    }
   },
   "outputs": [
    {
     "ename": "KeyError",
     "evalue": "'PGM_TRMNTN_CD'",
     "output_type": "error",
     "traceback": [
      "\u001b[0;31m---------------------------------------------------------------------------\u001b[0m",
      "\u001b[0;31mKeyError\u001b[0m                                  Traceback (most recent call last)",
      "File \u001b[0;32m~/Library/Python/3.9/lib/python/site-packages/pandas/core/indexes/base.py:3805\u001b[0m, in \u001b[0;36mIndex.get_loc\u001b[0;34m(self, key)\u001b[0m\n\u001b[1;32m   3804\u001b[0m \u001b[39mtry\u001b[39;00m:\n\u001b[0;32m-> 3805\u001b[0m     \u001b[39mreturn\u001b[39;00m \u001b[39mself\u001b[39;49m\u001b[39m.\u001b[39;49m_engine\u001b[39m.\u001b[39;49mget_loc(casted_key)\n\u001b[1;32m   3806\u001b[0m \u001b[39mexcept\u001b[39;00m \u001b[39mKeyError\u001b[39;00m \u001b[39mas\u001b[39;00m err:\n",
      "File \u001b[0;32mindex.pyx:167\u001b[0m, in \u001b[0;36mpandas._libs.index.IndexEngine.get_loc\u001b[0;34m()\u001b[0m\n",
      "File \u001b[0;32mindex.pyx:196\u001b[0m, in \u001b[0;36mpandas._libs.index.IndexEngine.get_loc\u001b[0;34m()\u001b[0m\n",
      "File \u001b[0;32mpandas/_libs/hashtable_class_helper.pxi:7081\u001b[0m, in \u001b[0;36mpandas._libs.hashtable.PyObjectHashTable.get_item\u001b[0;34m()\u001b[0m\n",
      "File \u001b[0;32mpandas/_libs/hashtable_class_helper.pxi:7089\u001b[0m, in \u001b[0;36mpandas._libs.hashtable.PyObjectHashTable.get_item\u001b[0;34m()\u001b[0m\n",
      "\u001b[0;31mKeyError\u001b[0m: 'PGM_TRMNTN_CD'",
      "\nThe above exception was the direct cause of the following exception:\n",
      "\u001b[0;31mKeyError\u001b[0m                                  Traceback (most recent call last)",
      "File \u001b[1;32m/Users/justinesilverstein/Desktop/problem-set-4-andrew-justine/pset4_template.qmd:31\u001b[0m\n\u001b[1;32m     27\u001b[0m                     filtered_closures \u001b[39m=\u001b[39m pd\u001b[39m.\u001b[39mconcat([filtered_closures, new_entry], ignore_index\u001b[39m=\u001b[39m\u001b[39mTrue\u001b[39;00m)                    \n\u001b[1;32m     28\u001b[0m     \u001b[39mreturn\u001b[39;00m filtered_closures\n\u001b[0;32m---> 31\u001b[0m filtered_closures \u001b[39m=\u001b[39m find_filtered_closures(active_2016, suspected_closures)\n\u001b[1;32m     33\u001b[0m \u001b[39mprint\u001b[39m(filtered_closures)\n",
      "File \u001b[1;32m/Users/justinesilverstein/Desktop/problem-set-4-andrew-justine/pset4_template.qmd:19\u001b[0m\n\u001b[1;32m     14\u001b[0m \u001b[39mfor\u001b[39;00m Year \u001b[39min\u001b[39;00m \u001b[39mrange\u001b[39m(\u001b[39m2017\u001b[39m, \u001b[39m2020\u001b[39m):\n\u001b[1;32m     15\u001b[0m     closed_check \u001b[39m=\u001b[39m suspected_closures[\n\u001b[1;32m     16\u001b[0m         (suspected_closures[\u001b[39m'\u001b[39m\u001b[39mFAC_NAME\u001b[39m\u001b[39m'\u001b[39m] \u001b[39m==\u001b[39m FAC_NAME) \u001b[39m&\u001b[39m \n\u001b[1;32m     17\u001b[0m         (suspected_closures[\u001b[39m'\u001b[39m\u001b[39mYear\u001b[39m\u001b[39m'\u001b[39m] \u001b[39m==\u001b[39m Year)\n\u001b[1;32m     18\u001b[0m     ]            \n\u001b[0;32m---> 19\u001b[0m     \u001b[39mif\u001b[39;00m \u001b[39mnot\u001b[39;00m closed_check\u001b[39m.\u001b[39mempty \u001b[39mand\u001b[39;00m closed_check[\u001b[39m'\u001b[39;49m\u001b[39mPGM_TRMNTN_CD\u001b[39;49m\u001b[39m'\u001b[39;49m]\u001b[39m.\u001b[39mvalues[\u001b[39m0\u001b[39m] \u001b[39m!=\u001b[39m \u001b[39m0\u001b[39m:\n\u001b[1;32m     20\u001b[0m         \u001b[39mif\u001b[39;00m ZIP_CD \u001b[39min\u001b[39;00m kept_zip_codes:\n\u001b[1;32m     21\u001b[0m             \u001b[39m# Create a new entry for filtered closures\u001b[39;00m\n\u001b[1;32m     22\u001b[0m             new_entry \u001b[39m=\u001b[39m pd\u001b[39m.\u001b[39mDataFrame({\n\u001b[1;32m     23\u001b[0m                 \u001b[39m'\u001b[39m\u001b[39mFAC_NAME\u001b[39m\u001b[39m'\u001b[39m: [FAC_NAME],\n\u001b[1;32m     24\u001b[0m                 \u001b[39m'\u001b[39m\u001b[39mZIP_CD\u001b[39m\u001b[39m'\u001b[39m: [ZIP_CD],\n\u001b[1;32m     25\u001b[0m                 \u001b[39m'\u001b[39m\u001b[39mYear\u001b[39m\u001b[39m'\u001b[39m: [Year]\n\u001b[1;32m     26\u001b[0m             })\n",
      "File \u001b[0;32m~/Library/Python/3.9/lib/python/site-packages/pandas/core/frame.py:4102\u001b[0m, in \u001b[0;36mDataFrame.__getitem__\u001b[0;34m(self, key)\u001b[0m\n\u001b[1;32m   4100\u001b[0m \u001b[39mif\u001b[39;00m \u001b[39mself\u001b[39m\u001b[39m.\u001b[39mcolumns\u001b[39m.\u001b[39mnlevels \u001b[39m>\u001b[39m \u001b[39m1\u001b[39m:\n\u001b[1;32m   4101\u001b[0m     \u001b[39mreturn\u001b[39;00m \u001b[39mself\u001b[39m\u001b[39m.\u001b[39m_getitem_multilevel(key)\n\u001b[0;32m-> 4102\u001b[0m indexer \u001b[39m=\u001b[39m \u001b[39mself\u001b[39;49m\u001b[39m.\u001b[39;49mcolumns\u001b[39m.\u001b[39;49mget_loc(key)\n\u001b[1;32m   4103\u001b[0m \u001b[39mif\u001b[39;00m is_integer(indexer):\n\u001b[1;32m   4104\u001b[0m     indexer \u001b[39m=\u001b[39m [indexer]\n",
      "File \u001b[0;32m~/Library/Python/3.9/lib/python/site-packages/pandas/core/indexes/base.py:3812\u001b[0m, in \u001b[0;36mIndex.get_loc\u001b[0;34m(self, key)\u001b[0m\n\u001b[1;32m   3807\u001b[0m     \u001b[39mif\u001b[39;00m \u001b[39misinstance\u001b[39m(casted_key, \u001b[39mslice\u001b[39m) \u001b[39mor\u001b[39;00m (\n\u001b[1;32m   3808\u001b[0m         \u001b[39misinstance\u001b[39m(casted_key, abc\u001b[39m.\u001b[39mIterable)\n\u001b[1;32m   3809\u001b[0m         \u001b[39mand\u001b[39;00m \u001b[39many\u001b[39m(\u001b[39misinstance\u001b[39m(x, \u001b[39mslice\u001b[39m) \u001b[39mfor\u001b[39;00m x \u001b[39min\u001b[39;00m casted_key)\n\u001b[1;32m   3810\u001b[0m     ):\n\u001b[1;32m   3811\u001b[0m         \u001b[39mraise\u001b[39;00m InvalidIndexError(key)\n\u001b[0;32m-> 3812\u001b[0m     \u001b[39mraise\u001b[39;00m \u001b[39mKeyError\u001b[39;00m(key) \u001b[39mfrom\u001b[39;00m \u001b[39merr\u001b[39;00m\n\u001b[1;32m   3813\u001b[0m \u001b[39mexcept\u001b[39;00m \u001b[39mTypeError\u001b[39;00m:\n\u001b[1;32m   3814\u001b[0m     \u001b[39m# If we have a listlike key, _check_indexing_error will raise\u001b[39;00m\n\u001b[1;32m   3815\u001b[0m     \u001b[39m#  InvalidIndexError. Otherwise we fall through and re-raise\u001b[39;00m\n\u001b[1;32m   3816\u001b[0m     \u001b[39m#  the TypeError.\u001b[39;00m\n\u001b[1;32m   3817\u001b[0m     \u001b[39mself\u001b[39m\u001b[39m.\u001b[39m_check_indexing_error(key)\n",
      "\u001b[0;31mKeyError\u001b[0m: 'PGM_TRMNTN_CD'"
     ]
    }
   ],
   "source": [
    "def find_filtered_closures(active_2016, suspected_closures):\n",
    "    filtered_closures = pd.DataFrame(columns=['FAC_NAME', 'ZIP_CD', 'Year'])\n",
    "    counts = suspected_closures.groupby(['ZIP_CD', 'Year']).size().unstack(fill_value=0)\n",
    "\n",
    "    kept_zip_codes = counts[\n",
    "        (counts.get(2018, 0) >= counts.get(2017, 0)) & \n",
    "        (counts.get(2019, 0) >= counts.get(2018, 0)) & \n",
    "        (counts.get(2017, 0) >= counts.get(2016, 0))\n",
    "    ].index.tolist()\n",
    "\n",
    "    for index, row in active_2016.iterrows():\n",
    "        FAC_NAME = row['FAC_NAME']\n",
    "        ZIP_CD = row['ZIP_CD']\n",
    "        for Year in range(2017, 2020):\n",
    "            closed_check = suspected_closures[\n",
    "                (suspected_closures['FAC_NAME'] == FAC_NAME) & \n",
    "                (suspected_closures['Year'] == Year)\n",
    "            ]            \n",
    "            if not closed_check.empty and closed_check['PGM_TRMNTN_CD'].values[0] != 0:\n",
    "                if ZIP_CD in kept_zip_codes:\n",
    "                    # Create a new entry for filtered closures\n",
    "                    new_entry = pd.DataFrame({\n",
    "                        'FAC_NAME': [FAC_NAME],\n",
    "                        'ZIP_CD': [ZIP_CD],\n",
    "                        'Year': [Year]\n",
    "                    })\n",
    "                    filtered_closures = pd.concat([filtered_closures, new_entry], ignore_index=True)                    \n",
    "    return filtered_closures\n",
    "\n",
    "\n",
    "filtered_closures = find_filtered_closures(active_2016, suspected_closures)\n",
    "\n",
    "print(filtered_closures)"
   ]
  },
  {
   "cell_type": "code",
   "execution_count": 41,
   "id": "a4785c5d-5f4f-41b9-bbe5-8e14702c885d",
   "metadata": {
    "vscode": {
     "languageId": "quarto"
    }
   },
   "outputs": [
    {
     "name": "stdout",
     "output_type": "stream",
     "text": [
      "<function filtered_closures at 0x121196310>\n"
     ]
    }
   ],
   "source": [
    "def find_filtered_closures(active_2016, suspected_closures):\n",
    "    filtered_closures = pd.DataFrame(columns=['FAC_NAME', 'ZIP_CD', 'Year'])\n",
    "    counts = suspected_closures.groupby(['ZIP_CD', 'Year']).size().unstack(fill_value=0)\n",
    "\n",
    "    kept_zip_codes = counts[\n",
    "        (counts.get(2018, 0) >= counts.get(2017, 0)) & \n",
    "        (counts.get(2019, 0) >= counts.get(2018, 0)) & \n",
    "        (counts.get(2017, 0) >= counts.get(2016, 0))\n",
    "    ].index.tolist()\n",
    "\n",
    "    for index, row in active_2016.iterrows():\n",
    "        FAC_NAME = row['FAC_NAME']\n",
    "        ZIP_CD = row['ZIP_CD']\n",
    "        for Year in range(2017, 2020):\n",
    "            closed_check = suspected_closures[\n",
    "                (suspected_closures['FAC_NAME'] == FAC_NAME) & \n",
    "                (suspected_closures['Year'] == Year)\n",
    "            ]            \n",
    "            if not closed_check.empty and closed_check['PGM_TRMNTN_CD'].values[0] != 0:\n",
    "                if ZIP_CD in kept_zip_codes:\n",
    "                    # Create a new entry for filtered closures\n",
    "                    new_entry = pd.DataFrame({\n",
    "                        'FAC_NAME': [FAC_NAME],\n",
    "                        'ZIP_CD': [ZIP_CD],\n",
    "                        'Year': [Year]\n",
    "                    })\n",
    "                    filtered_closures = pd.concat([filtered_closures, new_entry], ignore_index=True)                    \n",
    "    return filtered_closures\n",
    "\n",
    "\n",
    "print(filtered_closures)"
   ]
  },
  {
   "cell_type": "code",
   "execution_count": 42,
   "id": "6fe7287f-d3ee-47d0-9ec9-65ea880f6362",
   "metadata": {
    "vscode": {
     "languageId": "quarto"
    }
   },
   "outputs": [
    {
     "name": "stdout",
     "output_type": "stream",
     "text": [
      "<function filtered_closures at 0x121196310>\n"
     ]
    }
   ],
   "source": [
    "def find_filtered_closures(active_2016, suspected_closures):\n",
    "    filtered_closures = pd.DataFrame(columns=['FAC_NAME', 'ZIP_CD', 'Year'])\n",
    "    counts = suspected_closures.groupby(['ZIP_CD', 'Year']).size().unstack(fill_value=0)\n",
    "\n",
    "    kept_zip_codes = counts[\n",
    "        (counts.get(2018, 0) >= counts.get(2017, 0)) & \n",
    "        (counts.get(2019, 0) >= counts.get(2018, 0)) & \n",
    "        (counts.get(2017, 0) >= counts.get(2016, 0))\n",
    "    ].index.tolist()\n",
    "\n",
    "    for index, row in active_2016.iterrows():\n",
    "        FAC_NAME = row['FAC_NAME']\n",
    "        ZIP_CD = row['ZIP_CD']\n",
    "        for Year in range(2017, 2020):\n",
    "            closed_check = suspected_closures[\n",
    "                (suspected_closures['FAC_NAME'] == FAC_NAME) & \n",
    "                (suspected_closures['Year'] == Year)\n",
    "            ]            \n",
    "            if not closed_check.empty and closed_check['PGM_TRMNTN_CD'].values[0] != 0:\n",
    "                if ZIP_CD in kept_zip_codes:\n",
    "                    # Create a new entry for filtered closures\n",
    "                    new_entry = pd.DataFrame({\n",
    "                        'FAC_NAME': [FAC_NAME],\n",
    "                        'ZIP_CD': [ZIP_CD],\n",
    "                        'Year': [Year]\n",
    "                    })\n",
    "                    filtered_closures = pd.concat([filtered_closures, new_entry], ignore_index=True)                    \n",
    "    return filtered_closures\n",
    "\n",
    "print(filtered_closures)"
   ]
  },
  {
   "cell_type": "code",
   "execution_count": 43,
   "id": "cbd0641a-6acd-4766-80ef-0a80235747ce",
   "metadata": {
    "vscode": {
     "languageId": "quarto"
    }
   },
   "outputs": [
    {
     "ename": "KeyError",
     "evalue": "'PGM_TRMNTN_CD'",
     "output_type": "error",
     "traceback": [
      "\u001b[0;31m---------------------------------------------------------------------------\u001b[0m",
      "\u001b[0;31mKeyError\u001b[0m                                  Traceback (most recent call last)",
      "File \u001b[0;32m~/Library/Python/3.9/lib/python/site-packages/pandas/core/indexes/base.py:3805\u001b[0m, in \u001b[0;36mIndex.get_loc\u001b[0;34m(self, key)\u001b[0m\n\u001b[1;32m   3804\u001b[0m \u001b[39mtry\u001b[39;00m:\n\u001b[0;32m-> 3805\u001b[0m     \u001b[39mreturn\u001b[39;00m \u001b[39mself\u001b[39;49m\u001b[39m.\u001b[39;49m_engine\u001b[39m.\u001b[39;49mget_loc(casted_key)\n\u001b[1;32m   3806\u001b[0m \u001b[39mexcept\u001b[39;00m \u001b[39mKeyError\u001b[39;00m \u001b[39mas\u001b[39;00m err:\n",
      "File \u001b[0;32mindex.pyx:167\u001b[0m, in \u001b[0;36mpandas._libs.index.IndexEngine.get_loc\u001b[0;34m()\u001b[0m\n",
      "File \u001b[0;32mindex.pyx:196\u001b[0m, in \u001b[0;36mpandas._libs.index.IndexEngine.get_loc\u001b[0;34m()\u001b[0m\n",
      "File \u001b[0;32mpandas/_libs/hashtable_class_helper.pxi:7081\u001b[0m, in \u001b[0;36mpandas._libs.hashtable.PyObjectHashTable.get_item\u001b[0;34m()\u001b[0m\n",
      "File \u001b[0;32mpandas/_libs/hashtable_class_helper.pxi:7089\u001b[0m, in \u001b[0;36mpandas._libs.hashtable.PyObjectHashTable.get_item\u001b[0;34m()\u001b[0m\n",
      "\u001b[0;31mKeyError\u001b[0m: 'PGM_TRMNTN_CD'",
      "\nThe above exception was the direct cause of the following exception:\n",
      "\u001b[0;31mKeyError\u001b[0m                                  Traceback (most recent call last)",
      "File \u001b[1;32m/Users/justinesilverstein/Desktop/problem-set-4-andrew-justine/pset4_template.qmd:30\u001b[0m\n\u001b[1;32m     27\u001b[0m                     filtered_closures \u001b[39m=\u001b[39m pd\u001b[39m.\u001b[39mconcat([filtered_closures, new_entry], ignore_index\u001b[39m=\u001b[39m\u001b[39mTrue\u001b[39;00m)                    \n\u001b[1;32m     28\u001b[0m     \u001b[39mreturn\u001b[39;00m filtered_closures\n\u001b[0;32m---> 30\u001b[0m filtered_closures \u001b[39m=\u001b[39m find_filtered_closures(active_2016, suspected_closures)\n\u001b[1;32m     32\u001b[0m \u001b[39mprint\u001b[39m(filtered_closures)\n",
      "File \u001b[1;32m/Users/justinesilverstein/Desktop/problem-set-4-andrew-justine/pset4_template.qmd:19\u001b[0m\n\u001b[1;32m     14\u001b[0m \u001b[39mfor\u001b[39;00m Year \u001b[39min\u001b[39;00m \u001b[39mrange\u001b[39m(\u001b[39m2017\u001b[39m, \u001b[39m2020\u001b[39m):\n\u001b[1;32m     15\u001b[0m     closed_check \u001b[39m=\u001b[39m suspected_closures[\n\u001b[1;32m     16\u001b[0m         (suspected_closures[\u001b[39m'\u001b[39m\u001b[39mFAC_NAME\u001b[39m\u001b[39m'\u001b[39m] \u001b[39m==\u001b[39m FAC_NAME) \u001b[39m&\u001b[39m \n\u001b[1;32m     17\u001b[0m         (suspected_closures[\u001b[39m'\u001b[39m\u001b[39mYear\u001b[39m\u001b[39m'\u001b[39m] \u001b[39m==\u001b[39m Year)\n\u001b[1;32m     18\u001b[0m     ]            \n\u001b[0;32m---> 19\u001b[0m     \u001b[39mif\u001b[39;00m \u001b[39mnot\u001b[39;00m closed_check\u001b[39m.\u001b[39mempty \u001b[39mand\u001b[39;00m closed_check[\u001b[39m'\u001b[39;49m\u001b[39mPGM_TRMNTN_CD\u001b[39;49m\u001b[39m'\u001b[39;49m]\u001b[39m.\u001b[39mvalues[\u001b[39m0\u001b[39m] \u001b[39m!=\u001b[39m \u001b[39m0\u001b[39m:\n\u001b[1;32m     20\u001b[0m         \u001b[39mif\u001b[39;00m ZIP_CD \u001b[39min\u001b[39;00m kept_zip_codes:\n\u001b[1;32m     21\u001b[0m             \u001b[39m# Create a new entry for filtered closures\u001b[39;00m\n\u001b[1;32m     22\u001b[0m             new_entry \u001b[39m=\u001b[39m pd\u001b[39m.\u001b[39mDataFrame({\n\u001b[1;32m     23\u001b[0m                 \u001b[39m'\u001b[39m\u001b[39mFAC_NAME\u001b[39m\u001b[39m'\u001b[39m: [FAC_NAME],\n\u001b[1;32m     24\u001b[0m                 \u001b[39m'\u001b[39m\u001b[39mZIP_CD\u001b[39m\u001b[39m'\u001b[39m: [ZIP_CD],\n\u001b[1;32m     25\u001b[0m                 \u001b[39m'\u001b[39m\u001b[39mYear\u001b[39m\u001b[39m'\u001b[39m: [Year]\n\u001b[1;32m     26\u001b[0m             })\n",
      "File \u001b[0;32m~/Library/Python/3.9/lib/python/site-packages/pandas/core/frame.py:4102\u001b[0m, in \u001b[0;36mDataFrame.__getitem__\u001b[0;34m(self, key)\u001b[0m\n\u001b[1;32m   4100\u001b[0m \u001b[39mif\u001b[39;00m \u001b[39mself\u001b[39m\u001b[39m.\u001b[39mcolumns\u001b[39m.\u001b[39mnlevels \u001b[39m>\u001b[39m \u001b[39m1\u001b[39m:\n\u001b[1;32m   4101\u001b[0m     \u001b[39mreturn\u001b[39;00m \u001b[39mself\u001b[39m\u001b[39m.\u001b[39m_getitem_multilevel(key)\n\u001b[0;32m-> 4102\u001b[0m indexer \u001b[39m=\u001b[39m \u001b[39mself\u001b[39;49m\u001b[39m.\u001b[39;49mcolumns\u001b[39m.\u001b[39;49mget_loc(key)\n\u001b[1;32m   4103\u001b[0m \u001b[39mif\u001b[39;00m is_integer(indexer):\n\u001b[1;32m   4104\u001b[0m     indexer \u001b[39m=\u001b[39m [indexer]\n",
      "File \u001b[0;32m~/Library/Python/3.9/lib/python/site-packages/pandas/core/indexes/base.py:3812\u001b[0m, in \u001b[0;36mIndex.get_loc\u001b[0;34m(self, key)\u001b[0m\n\u001b[1;32m   3807\u001b[0m     \u001b[39mif\u001b[39;00m \u001b[39misinstance\u001b[39m(casted_key, \u001b[39mslice\u001b[39m) \u001b[39mor\u001b[39;00m (\n\u001b[1;32m   3808\u001b[0m         \u001b[39misinstance\u001b[39m(casted_key, abc\u001b[39m.\u001b[39mIterable)\n\u001b[1;32m   3809\u001b[0m         \u001b[39mand\u001b[39;00m \u001b[39many\u001b[39m(\u001b[39misinstance\u001b[39m(x, \u001b[39mslice\u001b[39m) \u001b[39mfor\u001b[39;00m x \u001b[39min\u001b[39;00m casted_key)\n\u001b[1;32m   3810\u001b[0m     ):\n\u001b[1;32m   3811\u001b[0m         \u001b[39mraise\u001b[39;00m InvalidIndexError(key)\n\u001b[0;32m-> 3812\u001b[0m     \u001b[39mraise\u001b[39;00m \u001b[39mKeyError\u001b[39;00m(key) \u001b[39mfrom\u001b[39;00m \u001b[39merr\u001b[39;00m\n\u001b[1;32m   3813\u001b[0m \u001b[39mexcept\u001b[39;00m \u001b[39mTypeError\u001b[39;00m:\n\u001b[1;32m   3814\u001b[0m     \u001b[39m# If we have a listlike key, _check_indexing_error will raise\u001b[39;00m\n\u001b[1;32m   3815\u001b[0m     \u001b[39m#  InvalidIndexError. Otherwise we fall through and re-raise\u001b[39;00m\n\u001b[1;32m   3816\u001b[0m     \u001b[39m#  the TypeError.\u001b[39;00m\n\u001b[1;32m   3817\u001b[0m     \u001b[39mself\u001b[39m\u001b[39m.\u001b[39m_check_indexing_error(key)\n",
      "\u001b[0;31mKeyError\u001b[0m: 'PGM_TRMNTN_CD'"
     ]
    }
   ],
   "source": [
    "def find_filtered_closures(active_2016, suspected_closures):\n",
    "    filtered_closures = pd.DataFrame(columns=['FAC_NAME', 'ZIP_CD', 'Year'])\n",
    "    counts = suspected_closures.groupby(['ZIP_CD', 'Year']).size().unstack(fill_value=0)\n",
    "\n",
    "    kept_zip_codes = counts[\n",
    "        (counts.get(2018, 0) >= counts.get(2017, 0)) & \n",
    "        (counts.get(2019, 0) >= counts.get(2018, 0)) & \n",
    "        (counts.get(2017, 0) >= counts.get(2016, 0))\n",
    "    ].index.tolist()\n",
    "\n",
    "    for index, row in active_2016.iterrows():\n",
    "        FAC_NAME = row['FAC_NAME']\n",
    "        ZIP_CD = row['ZIP_CD']\n",
    "        for Year in range(2017, 2020):\n",
    "            closed_check = suspected_closures[\n",
    "                (suspected_closures['FAC_NAME'] == FAC_NAME) & \n",
    "                (suspected_closures['Year'] == Year)\n",
    "            ]            \n",
    "            if not closed_check.empty and closed_check['PGM_TRMNTN_CD'].values[0] != 0:\n",
    "                if ZIP_CD in kept_zip_codes:\n",
    "                    # Create a new entry for filtered closures\n",
    "                    new_entry = pd.DataFrame({\n",
    "                        'FAC_NAME': [FAC_NAME],\n",
    "                        'ZIP_CD': [ZIP_CD],\n",
    "                        'Year': [Year]\n",
    "                    })\n",
    "                    filtered_closures = pd.concat([filtered_closures, new_entry], ignore_index=True)                    \n",
    "    return filtered_closures\n",
    "\n",
    "filtered_closures = find_filtered_closures(active_2016, suspected_closures)\n",
    "\n",
    "print(filtered_closures)"
   ]
  },
  {
   "cell_type": "code",
   "execution_count": 44,
   "id": "4a97fdfd-70d4-463d-8b65-2de96be12026",
   "metadata": {
    "vscode": {
     "languageId": "quarto"
    }
   },
   "outputs": [
    {
     "name": "stdout",
     "output_type": "stream",
     "text": [
      "                                          FAC_NAME  Year\n",
      "13                          ABRAZO MARYVALE CAMPUS  2019\n",
      "11                          ABRAZO MARYVALE CAMPUS  2017\n",
      "12                          ABRAZO MARYVALE CAMPUS  2018\n",
      "24       ADVENTIST MEDICAL CENTER - CENTRAL VALLEY  2019\n",
      "23       ADVENTIST MEDICAL CENTER - CENTRAL VALLEY  2018\n",
      "22       ADVENTIST MEDICAL CENTER - CENTRAL VALLEY  2017\n",
      "325                        AFFINITY MEDICAL CENTER  2018\n",
      "326                        AFFINITY MEDICAL CENTER  2019\n",
      "286  ALBANY MEDICAL CENTER / SOUTH CLINICAL CAMPUS  2018\n",
      "287  ALBANY MEDICAL CENTER / SOUTH CLINICAL CAMPUS  2019\n"
     ]
    }
   ],
   "source": [
    "print(suspected_closures[['FAC_NAME', 'Year']].sort_values(by='FAC_NAME').head(10))"
   ]
  },
  {
   "cell_type": "code",
   "execution_count": 45,
   "id": "3189ff98-3253-4487-8f44-5b54474593f5",
   "metadata": {
    "vscode": {
     "languageId": "quarto"
    }
   },
   "outputs": [
    {
     "name": "stderr",
     "output_type": "stream",
     "text": [
      "<ipython-input-45-57f6049c09cd>:18: FutureWarning: The behavior of DataFrame concatenation with empty or all-NA entries is deprecated. In a future version, this will no longer exclude empty or all-NA columns when determining the result dtypes. To retain the old behavior, exclude the relevant entries before the concat operation.\n",
      "  suspected_closures = pd.concat([suspected_closures, new_entry], ignore_index=True)\n"
     ]
    },
    {
     "name": "stdout",
     "output_type": "stream",
     "text": [
      "587\n"
     ]
    }
   ],
   "source": [
    "active_2016 = df_health[(df_health['PGM_TRMNTN_CD'] == 0) & (df_health['Year'] == 2016)]\n",
    "\n",
    "def find_suspected_closures(active_2016, df_health):\n",
    "    suspected_closures = pd.DataFrame(columns=['FAC_NAME', 'ZIP_CD', 'Year'])\n",
    "    \n",
    "    for index, row in active_2016.iterrows():\n",
    "        FAC_NAME = row['FAC_NAME']\n",
    "        ZIP_CD = row['ZIP_CD']\n",
    "\n",
    "        for Year in range(2017, 2020):\n",
    "            closed_check = df_health[(df_health['FAC_NAME'] == FAC_NAME) & (df_health['Year'] == Year)]           \n",
    "            if not closed_check.empty and closed_check['PGM_TRMNTN_CD'].values[0] != 0:\n",
    "                new_entry = pd.DataFrame({\n",
    "                    'FAC_NAME': [FAC_NAME],\n",
    "                    'ZIP_CD': [ZIP_CD],\n",
    "                    'Year': [Year]\n",
    "                })\n",
    "                suspected_closures = pd.concat([suspected_closures, new_entry], ignore_index=True)\n",
    "    return suspected_closures\n",
    "\n",
    "suspected_closures = find_suspected_closures(active_2016, df_health)\n",
    "\n",
    "print(len(suspected_closures))"
   ]
  },
  {
   "cell_type": "code",
   "execution_count": 46,
   "id": "58e3e94c-1b9f-439b-8fc1-a88aa57d544e",
   "metadata": {
    "vscode": {
     "languageId": "quarto"
    }
   },
   "outputs": [
    {
     "ename": "KeyError",
     "evalue": "'PGM_TRMNTN_CD'",
     "output_type": "error",
     "traceback": [
      "\u001b[0;31m---------------------------------------------------------------------------\u001b[0m",
      "\u001b[0;31mKeyError\u001b[0m                                  Traceback (most recent call last)",
      "File \u001b[0;32m~/Library/Python/3.9/lib/python/site-packages/pandas/core/indexes/base.py:3805\u001b[0m, in \u001b[0;36mIndex.get_loc\u001b[0;34m(self, key)\u001b[0m\n\u001b[1;32m   3804\u001b[0m \u001b[39mtry\u001b[39;00m:\n\u001b[0;32m-> 3805\u001b[0m     \u001b[39mreturn\u001b[39;00m \u001b[39mself\u001b[39;49m\u001b[39m.\u001b[39;49m_engine\u001b[39m.\u001b[39;49mget_loc(casted_key)\n\u001b[1;32m   3806\u001b[0m \u001b[39mexcept\u001b[39;00m \u001b[39mKeyError\u001b[39;00m \u001b[39mas\u001b[39;00m err:\n",
      "File \u001b[0;32mindex.pyx:167\u001b[0m, in \u001b[0;36mpandas._libs.index.IndexEngine.get_loc\u001b[0;34m()\u001b[0m\n",
      "File \u001b[0;32mindex.pyx:196\u001b[0m, in \u001b[0;36mpandas._libs.index.IndexEngine.get_loc\u001b[0;34m()\u001b[0m\n",
      "File \u001b[0;32mpandas/_libs/hashtable_class_helper.pxi:7081\u001b[0m, in \u001b[0;36mpandas._libs.hashtable.PyObjectHashTable.get_item\u001b[0;34m()\u001b[0m\n",
      "File \u001b[0;32mpandas/_libs/hashtable_class_helper.pxi:7089\u001b[0m, in \u001b[0;36mpandas._libs.hashtable.PyObjectHashTable.get_item\u001b[0;34m()\u001b[0m\n",
      "\u001b[0;31mKeyError\u001b[0m: 'PGM_TRMNTN_CD'",
      "\nThe above exception was the direct cause of the following exception:\n",
      "\u001b[0;31mKeyError\u001b[0m                                  Traceback (most recent call last)",
      "File \u001b[1;32m/Users/justinesilverstein/Desktop/problem-set-4-andrew-justine/pset4_template.qmd:27\u001b[0m\n\u001b[1;32m     23\u001b[0m             filtered_closures \u001b[39m=\u001b[39m pd\u001b[39m.\u001b[39mconcat([filtered_closures, new_entry], ignore_index\u001b[39m=\u001b[39m\u001b[39mTrue\u001b[39;00m)\n\u001b[1;32m     25\u001b[0m     \u001b[39mreturn\u001b[39;00m filtered_closures\n\u001b[0;32m---> 27\u001b[0m filtered_closures \u001b[39m=\u001b[39m find_filtered_closures(suspected_closures)\n\u001b[1;32m     28\u001b[0m \u001b[39mprint\u001b[39m(filtered_closures)\n",
      "File \u001b[1;32m/Users/justinesilverstein/Desktop/problem-set-4-andrew-justine/pset4_template.qmd:17\u001b[0m\n\u001b[1;32m     14\u001b[0m ZIP_CD \u001b[39m=\u001b[39m row[\u001b[39m'\u001b[39m\u001b[39mZIP_CD\u001b[39m\u001b[39m'\u001b[39m]\n\u001b[1;32m     15\u001b[0m Year \u001b[39m=\u001b[39m row[\u001b[39m'\u001b[39m\u001b[39mYear\u001b[39m\u001b[39m'\u001b[39m]\n\u001b[0;32m---> 17\u001b[0m \u001b[39mif\u001b[39;00m ZIP_CD \u001b[39min\u001b[39;00m kept_zip_codes \u001b[39mand\u001b[39;00m row[\u001b[39m'\u001b[39;49m\u001b[39mPGM_TRMNTN_CD\u001b[39;49m\u001b[39m'\u001b[39;49m] \u001b[39m!=\u001b[39m \u001b[39m0\u001b[39m:\n\u001b[1;32m     18\u001b[0m     new_entry \u001b[39m=\u001b[39m pd\u001b[39m.\u001b[39mDataFrame({\n\u001b[1;32m     19\u001b[0m         \u001b[39m'\u001b[39m\u001b[39mFAC_NAME\u001b[39m\u001b[39m'\u001b[39m: [FAC_NAME],\n\u001b[1;32m     20\u001b[0m         \u001b[39m'\u001b[39m\u001b[39mZIP_CD\u001b[39m\u001b[39m'\u001b[39m: [ZIP_CD],\n\u001b[1;32m     21\u001b[0m         \u001b[39m'\u001b[39m\u001b[39mYear\u001b[39m\u001b[39m'\u001b[39m: [Year]\n\u001b[1;32m     22\u001b[0m     })\n\u001b[1;32m     23\u001b[0m     filtered_closures \u001b[39m=\u001b[39m pd\u001b[39m.\u001b[39mconcat([filtered_closures, new_entry], ignore_index\u001b[39m=\u001b[39m\u001b[39mTrue\u001b[39;00m)\n",
      "File \u001b[0;32m~/Library/Python/3.9/lib/python/site-packages/pandas/core/series.py:1121\u001b[0m, in \u001b[0;36mSeries.__getitem__\u001b[0;34m(self, key)\u001b[0m\n\u001b[1;32m   1118\u001b[0m     \u001b[39mreturn\u001b[39;00m \u001b[39mself\u001b[39m\u001b[39m.\u001b[39m_values[key]\n\u001b[1;32m   1120\u001b[0m \u001b[39melif\u001b[39;00m key_is_scalar:\n\u001b[0;32m-> 1121\u001b[0m     \u001b[39mreturn\u001b[39;00m \u001b[39mself\u001b[39;49m\u001b[39m.\u001b[39;49m_get_value(key)\n\u001b[1;32m   1123\u001b[0m \u001b[39m# Convert generator to list before going through hashable part\u001b[39;00m\n\u001b[1;32m   1124\u001b[0m \u001b[39m# (We will iterate through the generator there to check for slices)\u001b[39;00m\n\u001b[1;32m   1125\u001b[0m \u001b[39mif\u001b[39;00m is_iterator(key):\n",
      "File \u001b[0;32m~/Library/Python/3.9/lib/python/site-packages/pandas/core/series.py:1237\u001b[0m, in \u001b[0;36mSeries._get_value\u001b[0;34m(self, label, takeable)\u001b[0m\n\u001b[1;32m   1234\u001b[0m     \u001b[39mreturn\u001b[39;00m \u001b[39mself\u001b[39m\u001b[39m.\u001b[39m_values[label]\n\u001b[1;32m   1236\u001b[0m \u001b[39m# Similar to Index.get_value, but we do not fall back to positional\u001b[39;00m\n\u001b[0;32m-> 1237\u001b[0m loc \u001b[39m=\u001b[39m \u001b[39mself\u001b[39;49m\u001b[39m.\u001b[39;49mindex\u001b[39m.\u001b[39;49mget_loc(label)\n\u001b[1;32m   1239\u001b[0m \u001b[39mif\u001b[39;00m is_integer(loc):\n\u001b[1;32m   1240\u001b[0m     \u001b[39mreturn\u001b[39;00m \u001b[39mself\u001b[39m\u001b[39m.\u001b[39m_values[loc]\n",
      "File \u001b[0;32m~/Library/Python/3.9/lib/python/site-packages/pandas/core/indexes/base.py:3812\u001b[0m, in \u001b[0;36mIndex.get_loc\u001b[0;34m(self, key)\u001b[0m\n\u001b[1;32m   3807\u001b[0m     \u001b[39mif\u001b[39;00m \u001b[39misinstance\u001b[39m(casted_key, \u001b[39mslice\u001b[39m) \u001b[39mor\u001b[39;00m (\n\u001b[1;32m   3808\u001b[0m         \u001b[39misinstance\u001b[39m(casted_key, abc\u001b[39m.\u001b[39mIterable)\n\u001b[1;32m   3809\u001b[0m         \u001b[39mand\u001b[39;00m \u001b[39many\u001b[39m(\u001b[39misinstance\u001b[39m(x, \u001b[39mslice\u001b[39m) \u001b[39mfor\u001b[39;00m x \u001b[39min\u001b[39;00m casted_key)\n\u001b[1;32m   3810\u001b[0m     ):\n\u001b[1;32m   3811\u001b[0m         \u001b[39mraise\u001b[39;00m InvalidIndexError(key)\n\u001b[0;32m-> 3812\u001b[0m     \u001b[39mraise\u001b[39;00m \u001b[39mKeyError\u001b[39;00m(key) \u001b[39mfrom\u001b[39;00m \u001b[39merr\u001b[39;00m\n\u001b[1;32m   3813\u001b[0m \u001b[39mexcept\u001b[39;00m \u001b[39mTypeError\u001b[39;00m:\n\u001b[1;32m   3814\u001b[0m     \u001b[39m# If we have a listlike key, _check_indexing_error will raise\u001b[39;00m\n\u001b[1;32m   3815\u001b[0m     \u001b[39m#  InvalidIndexError. Otherwise we fall through and re-raise\u001b[39;00m\n\u001b[1;32m   3816\u001b[0m     \u001b[39m#  the TypeError.\u001b[39;00m\n\u001b[1;32m   3817\u001b[0m     \u001b[39mself\u001b[39m\u001b[39m.\u001b[39m_check_indexing_error(key)\n",
      "\u001b[0;31mKeyError\u001b[0m: 'PGM_TRMNTN_CD'"
     ]
    }
   ],
   "source": [
    "def find_filtered_closures(suspected_closures):\n",
    "    filtered_closures = pd.DataFrame(columns=['FAC_NAME', 'ZIP_CD', 'Year'])\n",
    "\n",
    "    counts = suspected_closures.groupby(['ZIP_CD', 'Year']).size().unstack(fill_value=0)\n",
    "\n",
    "    kept_zip_codes = counts[\n",
    "        (counts.get(2018, 0) >= counts.get(2017, 0)) & \n",
    "        (counts.get(2019, 0) >= counts.get(2018, 0)) & \n",
    "        (counts.get(2017, 0) >= counts.get(2016, 0))\n",
    "    ].index.tolist()\n",
    "\n",
    "    for index, row in suspected_closures.iterrows():\n",
    "        FAC_NAME = row['FAC_NAME']\n",
    "        ZIP_CD = row['ZIP_CD']\n",
    "        Year = row['Year']\n",
    "\n",
    "        if ZIP_CD in kept_zip_codes and row['PGM_TRMNTN_CD'] != 0:\n",
    "            new_entry = pd.DataFrame({\n",
    "                'FAC_NAME': [FAC_NAME],\n",
    "                'ZIP_CD': [ZIP_CD],\n",
    "                'Year': [Year]\n",
    "            })\n",
    "            filtered_closures = pd.concat([filtered_closures, new_entry], ignore_index=True)\n",
    "                    \n",
    "    return filtered_closures\n",
    "\n",
    "filtered_closures = find_filtered_closures(suspected_closures)\n",
    "print(filtered_closures)"
   ]
  },
  {
   "cell_type": "code",
   "execution_count": 47,
   "id": "4901dc42-db54-47d3-a50c-ad57ff0b0ffe",
   "metadata": {
    "vscode": {
     "languageId": "quarto"
    }
   },
   "outputs": [
    {
     "name": "stderr",
     "output_type": "stream",
     "text": [
      "<ipython-input-47-57f6049c09cd>:18: FutureWarning: The behavior of DataFrame concatenation with empty or all-NA entries is deprecated. In a future version, this will no longer exclude empty or all-NA columns when determining the result dtypes. To retain the old behavior, exclude the relevant entries before the concat operation.\n",
      "  suspected_closures = pd.concat([suspected_closures, new_entry], ignore_index=True)\n"
     ]
    },
    {
     "name": "stdout",
     "output_type": "stream",
     "text": [
      "587\n"
     ]
    }
   ],
   "source": [
    "active_2016 = df_health[(df_health['PGM_TRMNTN_CD'] == 0) & (df_health['Year'] == 2016)]\n",
    "\n",
    "def find_suspected_closures(active_2016, df_health):\n",
    "    suspected_closures = pd.DataFrame(columns=['FAC_NAME', 'ZIP_CD', 'Year'])\n",
    "    \n",
    "    for index, row in active_2016.iterrows():\n",
    "        FAC_NAME = row['FAC_NAME']\n",
    "        ZIP_CD = row['ZIP_CD']\n",
    "\n",
    "        for Year in range(2017, 2020):\n",
    "            closed_check = df_health[(df_health['FAC_NAME'] == FAC_NAME) & (df_health['Year'] == Year)]           \n",
    "            if not closed_check.empty and closed_check['PGM_TRMNTN_CD'].values[0] != 0:\n",
    "                new_entry = pd.DataFrame({\n",
    "                    'FAC_NAME': [FAC_NAME],\n",
    "                    'ZIP_CD': [ZIP_CD],\n",
    "                    'Year': [Year]\n",
    "                })\n",
    "                suspected_closures = pd.concat([suspected_closures, new_entry], ignore_index=True)\n",
    "    return suspected_closures\n",
    "\n",
    "suspected_closures = find_suspected_closures(active_2016, df_health)\n",
    "\n",
    "print(len(suspected_closures))"
   ]
  },
  {
   "cell_type": "code",
   "execution_count": 48,
   "id": "943a2eb4-7cb4-4e4a-b564-e5c868f48cc9",
   "metadata": {
    "vscode": {
     "languageId": "quarto"
    }
   },
   "outputs": [
    {
     "name": "stderr",
     "output_type": "stream",
     "text": [
      "<ipython-input-48-df92e4c2b6bb>:24: FutureWarning: The behavior of DataFrame concatenation with empty or all-NA entries is deprecated. In a future version, this will no longer exclude empty or all-NA columns when determining the result dtypes. To retain the old behavior, exclude the relevant entries before the concat operation.\n",
      "  filtered_closures = pd.concat([filtered_closures, new_entry], ignore_index=True)\n"
     ]
    },
    {
     "name": "stdout",
     "output_type": "stream",
     "text": [
      "                         FAC_NAME   ZIP_CD  Year\n",
      "0              LAFAYETTE HOSPITAL    714.0  2017\n",
      "1              LAFAYETTE HOSPITAL    714.0  2018\n",
      "2              LAFAYETTE HOSPITAL    714.0  2019\n",
      "3               SANTA ROSA CLINIC    785.0  2017\n",
      "4               SANTA ROSA CLINIC    785.0  2018\n",
      "..                            ...      ...   ...\n",
      "581               VALLEY HOSPITAL  99216.0  2017\n",
      "582               VALLEY HOSPITAL  99216.0  2018\n",
      "583               VALLEY HOSPITAL  99216.0  2019\n",
      "584  WALLA WALLA GENERAL HOSPITAL  99362.0  2018\n",
      "585  WALLA WALLA GENERAL HOSPITAL  99362.0  2019\n",
      "\n",
      "[586 rows x 3 columns]\n"
     ]
    }
   ],
   "source": [
    "def find_filtered_closures(suspected_closures):\n",
    "    filtered_closures = pd.DataFrame(columns=['FAC_NAME', 'ZIP_CD', 'Year'])\n",
    "    counts = suspected_closures.groupby(['ZIP_CD', 'Year']).size().unstack(fill_value=0)\n",
    "    kept_zip_codes = counts[\n",
    "        (counts.get(2018, 0) >= counts.get(2017, 0)) & \n",
    "        (counts.get(2019, 0) >= counts.get(2018, 0)) & \n",
    "        (counts.get(2017, 0) >= counts.get(2016, 0))\n",
    "    ].index.tolist()\n",
    "\n",
    "    for ZIP_CD in kept_zip_codes:\n",
    "        for Year in range(2017, 2020):\n",
    "            if ZIP_CD in counts.index and counts.loc[ZIP_CD, Year] > 0:\n",
    "                fac_in_zip = suspected_closures[\n",
    "                    (suspected_closures['ZIP_CD'] == ZIP_CD) & \n",
    "                    (suspected_closures['Year'] == Year)\n",
    "                ]\n",
    "\n",
    "                for index, row in fac_in_zip.iterrows():\n",
    "                    new_entry = pd.DataFrame({\n",
    "                        'FAC_NAME': [row['FAC_NAME']],\n",
    "                        'ZIP_CD': [ZIP_CD],\n",
    "                        'Year': [Year]\n",
    "                    })\n",
    "                    filtered_closures = pd.concat([filtered_closures, new_entry], ignore_index=True)\n",
    "    return filtered_closures\n",
    "\n",
    "filtered_closures = find_filtered_closures(suspected_closures)\n",
    "print(filtered_closures)"
   ]
  },
  {
   "cell_type": "code",
   "execution_count": 49,
   "id": "0298fe59-f8f6-4dbc-92fe-6d11f211e5f2",
   "metadata": {
    "vscode": {
     "languageId": "quarto"
    }
   },
   "outputs": [
    {
     "name": "stdout",
     "output_type": "stream",
     "text": [
      "                                 FAC_NAME   ZIP_CD  Year\n",
      "0  HEALTHSOUTH CHATTANOOGA REHAB HOSPITAL  37404.0  2018\n"
     ]
    },
    {
     "name": "stderr",
     "output_type": "stream",
     "text": [
      "<ipython-input-49-93e40f5a6ca8>:25: FutureWarning: The behavior of DataFrame concatenation with empty or all-NA entries is deprecated. In a future version, this will no longer exclude empty or all-NA columns when determining the result dtypes. To retain the old behavior, exclude the relevant entries before the concat operation.\n",
      "  filtered_closures = pd.concat([filtered_closures, new_entry], ignore_index=True)\n"
     ]
    }
   ],
   "source": [
    "def find_filtered_closures(suspected_closures):\n",
    "    filtered_closures = pd.DataFrame(columns=['FAC_NAME', 'ZIP_CD', 'Year'])\n",
    "    counts = suspected_closures.groupby(['ZIP_CD', 'Year']).size().unstack(fill_value=0)\n",
    "    kept_zip_codes = []\n",
    " \n",
    "    for ZIP_CD in counts.index:\n",
    "        if counts.loc[ZIP_CD, 2017] > counts.loc[ZIP_CD, 2018] or \\\n",
    "           counts.loc[ZIP_CD, 2018] > counts.loc[ZIP_CD, 2019]:\n",
    "            kept_zip_codes.append(ZIP_CD)\n",
    "\n",
    "    for ZIP_CD in kept_zip_codes:\n",
    "        for Year in range(2017, 2020):\n",
    "            if ZIP_CD in counts.index and counts.loc[ZIP_CD, Year] > 0:\n",
    "                fac_in_zip = suspected_closures[\n",
    "                    (suspected_closures['ZIP_CD'] == ZIP_CD) & \n",
    "                    (suspected_closures['Year'] == Year)\n",
    "                ]\n",
    "\n",
    "                for index, row in fac_in_zip.iterrows():\n",
    "                    new_entry = pd.DataFrame({\n",
    "                        'FAC_NAME': [row['FAC_NAME']],\n",
    "                        'ZIP_CD': [ZIP_CD],\n",
    "                        'Year': [Year]\n",
    "                    })\n",
    "                    filtered_closures = pd.concat([filtered_closures, new_entry], ignore_index=True)\n",
    "\n",
    "    return filtered_closures\n",
    "\n",
    "\n",
    "filtered_closures = find_filtered_closures(suspected_closures)\n",
    "\n",
    "print(filtered_closures)"
   ]
  },
  {
   "cell_type": "code",
   "execution_count": 50,
   "id": "8f2f4cad-497e-4471-8207-49c8eeed7da8",
   "metadata": {
    "vscode": {
     "languageId": "quarto"
    }
   },
   "outputs": [
    {
     "name": "stdout",
     "output_type": "stream",
     "text": [
      "                                 FAC_NAME   ZIP_CD  Year\n",
      "0  HEALTHSOUTH CHATTANOOGA REHAB HOSPITAL  37404.0  2018\n",
      "Number of suspected closures that may be mergers/acquisitions: 1\n"
     ]
    },
    {
     "name": "stderr",
     "output_type": "stream",
     "text": [
      "<ipython-input-50-2ef1409a6b77>:25: FutureWarning: The behavior of DataFrame concatenation with empty or all-NA entries is deprecated. In a future version, this will no longer exclude empty or all-NA columns when determining the result dtypes. To retain the old behavior, exclude the relevant entries before the concat operation.\n",
      "  filtered_closures = pd.concat([filtered_closures, new_entry], ignore_index=True)\n"
     ]
    }
   ],
   "source": [
    "def find_filtered_closures(suspected_closures):\n",
    "    filtered_closures = pd.DataFrame(columns=['FAC_NAME', 'ZIP_CD', 'Year'])\n",
    "    counts = suspected_closures.groupby(['ZIP_CD', 'Year']).size().unstack(fill_value=0)\n",
    "    kept_zip_codes = []\n",
    " \n",
    "    for ZIP_CD in counts.index:\n",
    "        if counts.loc[ZIP_CD, 2017] > counts.loc[ZIP_CD, 2018] or \\\n",
    "           counts.loc[ZIP_CD, 2018] > counts.loc[ZIP_CD, 2019]:\n",
    "            kept_zip_codes.append(ZIP_CD)\n",
    "\n",
    "    for ZIP_CD in kept_zip_codes:\n",
    "        for Year in range(2017, 2020):\n",
    "            if ZIP_CD in counts.index and counts.loc[ZIP_CD, Year] > 0:\n",
    "                fac_in_zip = suspected_closures[\n",
    "                    (suspected_closures['ZIP_CD'] == ZIP_CD) & \n",
    "                    (suspected_closures['Year'] == Year)\n",
    "                ]\n",
    "\n",
    "                for index, row in fac_in_zip.iterrows():\n",
    "                    new_entry = pd.DataFrame({\n",
    "                        'FAC_NAME': [row['FAC_NAME']],\n",
    "                        'ZIP_CD': [ZIP_CD],\n",
    "                        'Year': [Year]\n",
    "                    })\n",
    "                    filtered_closures = pd.concat([filtered_closures, new_entry], ignore_index=True)\n",
    "\n",
    "    return filtered_closures\n",
    "\n",
    "\n",
    "filtered_closures = find_filtered_closures(suspected_closures)\n",
    "\n",
    "\n",
    "print(filtered_closures)\n",
    "\n",
    "num_mergers = len(filtered_closures)\n",
    "print(f\"Number of suspected closures that may be mergers/acquisitions: {num_mergers}\")"
   ]
  },
  {
   "cell_type": "code",
   "execution_count": 51,
   "id": "11c17534-1532-4483-ab28-6909b0517915",
   "metadata": {
    "vscode": {
     "languageId": "quarto"
    }
   },
   "outputs": [
    {
     "name": "stdout",
     "output_type": "stream",
     "text": [
      "                                 FAC_NAME   ZIP_CD  Year\n",
      "0  HEALTHSOUTH CHATTANOOGA REHAB HOSPITAL  37404.0  2018\n",
      "Number of suspected closures that may be mergers/acquisitions: 1\n"
     ]
    },
    {
     "name": "stderr",
     "output_type": "stream",
     "text": [
      "<ipython-input-51-f665efb2b962>:32: FutureWarning: The behavior of DataFrame concatenation with empty or all-NA entries is deprecated. In a future version, this will no longer exclude empty or all-NA columns when determining the result dtypes. To retain the old behavior, exclude the relevant entries before the concat operation.\n",
      "  filtered_closures = pd.concat([filtered_closures, new_entry], ignore_index=True)\n"
     ]
    }
   ],
   "source": [
    "import pandas as pd\n",
    "\n",
    "def find_filtered_closures(suspected_closures):\n",
    "    filtered_closures = pd.DataFrame(columns=['FAC_NAME', 'ZIP_CD', 'Year'])\n",
    "    \n",
    "    # Count occurrences of suspected closures by ZIP code and year\n",
    "    counts = suspected_closures.groupby(['ZIP_CD', 'Year']).size().unstack(fill_value=0)\n",
    "\n",
    "    # Identify zip codes where the number of hospitals does not decrease after the suspected closure\n",
    "    kept_zip_codes = []\n",
    "    for ZIP_CD in counts.index:\n",
    "        # Ensure there's a decrease in hospitals in the years after\n",
    "        if (counts.loc[ZIP_CD, 2018] < counts.loc[ZIP_CD, 2017]) or \\\n",
    "           (counts.loc[ZIP_CD, 2019] < counts.loc[ZIP_CD, 2018]):\n",
    "            kept_zip_codes.append(ZIP_CD)\n",
    "\n",
    "    # Iterate through the suspected closures and filter accordingly\n",
    "    for ZIP_CD in kept_zip_codes:\n",
    "        for Year in range(2017, 2020):\n",
    "            if ZIP_CD in counts.index and counts.loc[ZIP_CD, Year] > 0:\n",
    "                fac_in_zip = suspected_closures[\n",
    "                    (suspected_closures['ZIP_CD'] == ZIP_CD) & \n",
    "                    (suspected_closures['Year'] == Year)\n",
    "                ]\n",
    "\n",
    "                for index, row in fac_in_zip.iterrows():\n",
    "                    new_entry = pd.DataFrame({\n",
    "                        'FAC_NAME': [row['FAC_NAME']],\n",
    "                        'ZIP_CD': [ZIP_CD],\n",
    "                        'Year': [Year]\n",
    "                    })\n",
    "                    filtered_closures = pd.concat([filtered_closures, new_entry], ignore_index=True)\n",
    "\n",
    "    return filtered_closures\n",
    "\n",
    "# Example usage\n",
    "# Assuming suspected_closures is already defined\n",
    "filtered_closures = find_filtered_closures(suspected_closures)\n",
    "\n",
    "# Print the resulting DataFrame\n",
    "print(filtered_closures)\n",
    "\n",
    "# Count how many hospitals fit this definition of potentially being a merger/acquisition\n",
    "num_mergers = len(filtered_closures)\n",
    "print(f\"Number of suspected closures that may be mergers/acquisitions: {num_mergers}\")"
   ]
  }
 ],
 "metadata": {
  "kernelspec": {
   "display_name": "Python 3",
   "language": "python",
   "name": "python3"
  },
  "language_info": {
   "name": "python",
   "version": "3.9.6"
  }
 },
 "nbformat": 4,
 "nbformat_minor": 2
}
